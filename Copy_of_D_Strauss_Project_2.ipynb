{
  "nbformat": 4,
  "nbformat_minor": 0,
  "metadata": {
    "colab": {
      "name": "Copy of D_Strauss_Project_2.ipynb",
      "provenance": [],
      "collapsed_sections": [],
      "authorship_tag": "ABX9TyOgmrGVOd9TJqyKaV50akwt",
      "include_colab_link": true
    },
    "kernelspec": {
      "name": "python3",
      "display_name": "Python 3"
    }
  },
  "cells": [
    {
      "cell_type": "markdown",
      "metadata": {
        "id": "view-in-github",
        "colab_type": "text"
      },
      "source": [
        "<a href=\"https://colab.research.google.com/github/Danjstr/Hello-World/blob/master/Copy_of_D_Strauss_Project_2.ipynb\" target=\"_parent\"><img src=\"https://colab.research.google.com/assets/colab-badge.svg\" alt=\"Open In Colab\"/></a>"
      ]
    },
    {
      "cell_type": "code",
      "metadata": {
        "id": "8R60OkjloPCf",
        "outputId": "c0adca91-a740-460d-ff20-8ba669c020f3",
        "colab": {
          "resources": {
            "http://localhost:8080/nbextensions/google.colab/files.js": {
              "data": "Ly8gQ29weXJpZ2h0IDIwMTcgR29vZ2xlIExMQwovLwovLyBMaWNlbnNlZCB1bmRlciB0aGUgQXBhY2hlIExpY2Vuc2UsIFZlcnNpb24gMi4wICh0aGUgIkxpY2Vuc2UiKTsKLy8geW91IG1heSBub3QgdXNlIHRoaXMgZmlsZSBleGNlcHQgaW4gY29tcGxpYW5jZSB3aXRoIHRoZSBMaWNlbnNlLgovLyBZb3UgbWF5IG9idGFpbiBhIGNvcHkgb2YgdGhlIExpY2Vuc2UgYXQKLy8KLy8gICAgICBodHRwOi8vd3d3LmFwYWNoZS5vcmcvbGljZW5zZXMvTElDRU5TRS0yLjAKLy8KLy8gVW5sZXNzIHJlcXVpcmVkIGJ5IGFwcGxpY2FibGUgbGF3IG9yIGFncmVlZCB0byBpbiB3cml0aW5nLCBzb2Z0d2FyZQovLyBkaXN0cmlidXRlZCB1bmRlciB0aGUgTGljZW5zZSBpcyBkaXN0cmlidXRlZCBvbiBhbiAiQVMgSVMiIEJBU0lTLAovLyBXSVRIT1VUIFdBUlJBTlRJRVMgT1IgQ09ORElUSU9OUyBPRiBBTlkgS0lORCwgZWl0aGVyIGV4cHJlc3Mgb3IgaW1wbGllZC4KLy8gU2VlIHRoZSBMaWNlbnNlIGZvciB0aGUgc3BlY2lmaWMgbGFuZ3VhZ2UgZ292ZXJuaW5nIHBlcm1pc3Npb25zIGFuZAovLyBsaW1pdGF0aW9ucyB1bmRlciB0aGUgTGljZW5zZS4KCi8qKgogKiBAZmlsZW92ZXJ2aWV3IEhlbHBlcnMgZm9yIGdvb2dsZS5jb2xhYiBQeXRob24gbW9kdWxlLgogKi8KKGZ1bmN0aW9uKHNjb3BlKSB7CmZ1bmN0aW9uIHNwYW4odGV4dCwgc3R5bGVBdHRyaWJ1dGVzID0ge30pIHsKICBjb25zdCBlbGVtZW50ID0gZG9jdW1lbnQuY3JlYXRlRWxlbWVudCgnc3BhbicpOwogIGVsZW1lbnQudGV4dENvbnRlbnQgPSB0ZXh0OwogIGZvciAoY29uc3Qga2V5IG9mIE9iamVjdC5rZXlzKHN0eWxlQXR0cmlidXRlcykpIHsKICAgIGVsZW1lbnQuc3R5bGVba2V5XSA9IHN0eWxlQXR0cmlidXRlc1trZXldOwogIH0KICByZXR1cm4gZWxlbWVudDsKfQoKLy8gTWF4IG51bWJlciBvZiBieXRlcyB3aGljaCB3aWxsIGJlIHVwbG9hZGVkIGF0IGEgdGltZS4KY29uc3QgTUFYX1BBWUxPQURfU0laRSA9IDEwMCAqIDEwMjQ7CgpmdW5jdGlvbiBfdXBsb2FkRmlsZXMoaW5wdXRJZCwgb3V0cHV0SWQpIHsKICBjb25zdCBzdGVwcyA9IHVwbG9hZEZpbGVzU3RlcChpbnB1dElkLCBvdXRwdXRJZCk7CiAgY29uc3Qgb3V0cHV0RWxlbWVudCA9IGRvY3VtZW50LmdldEVsZW1lbnRCeUlkKG91dHB1dElkKTsKICAvLyBDYWNoZSBzdGVwcyBvbiB0aGUgb3V0cHV0RWxlbWVudCB0byBtYWtlIGl0IGF2YWlsYWJsZSBmb3IgdGhlIG5leHQgY2FsbAogIC8vIHRvIHVwbG9hZEZpbGVzQ29udGludWUgZnJvbSBQeXRob24uCiAgb3V0cHV0RWxlbWVudC5zdGVwcyA9IHN0ZXBzOwoKICByZXR1cm4gX3VwbG9hZEZpbGVzQ29udGludWUob3V0cHV0SWQpOwp9CgovLyBUaGlzIGlzIHJvdWdobHkgYW4gYXN5bmMgZ2VuZXJhdG9yIChub3Qgc3VwcG9ydGVkIGluIHRoZSBicm93c2VyIHlldCksCi8vIHdoZXJlIHRoZXJlIGFyZSBtdWx0aXBsZSBhc3luY2hyb25vdXMgc3RlcHMgYW5kIHRoZSBQeXRob24gc2lkZSBpcyBnb2luZwovLyB0byBwb2xsIGZvciBjb21wbGV0aW9uIG9mIGVhY2ggc3RlcC4KLy8gVGhpcyB1c2VzIGEgUHJvbWlzZSB0byBibG9jayB0aGUgcHl0aG9uIHNpZGUgb24gY29tcGxldGlvbiBvZiBlYWNoIHN0ZXAsCi8vIHRoZW4gcGFzc2VzIHRoZSByZXN1bHQgb2YgdGhlIHByZXZpb3VzIHN0ZXAgYXMgdGhlIGlucHV0IHRvIHRoZSBuZXh0IHN0ZXAuCmZ1bmN0aW9uIF91cGxvYWRGaWxlc0NvbnRpbnVlKG91dHB1dElkKSB7CiAgY29uc3Qgb3V0cHV0RWxlbWVudCA9IGRvY3VtZW50LmdldEVsZW1lbnRCeUlkKG91dHB1dElkKTsKICBjb25zdCBzdGVwcyA9IG91dHB1dEVsZW1lbnQuc3RlcHM7CgogIGNvbnN0IG5leHQgPSBzdGVwcy5uZXh0KG91dHB1dEVsZW1lbnQubGFzdFByb21pc2VWYWx1ZSk7CiAgcmV0dXJuIFByb21pc2UucmVzb2x2ZShuZXh0LnZhbHVlLnByb21pc2UpLnRoZW4oKHZhbHVlKSA9PiB7CiAgICAvLyBDYWNoZSB0aGUgbGFzdCBwcm9taXNlIHZhbHVlIHRvIG1ha2UgaXQgYXZhaWxhYmxlIHRvIHRoZSBuZXh0CiAgICAvLyBzdGVwIG9mIHRoZSBnZW5lcmF0b3IuCiAgICBvdXRwdXRFbGVtZW50Lmxhc3RQcm9taXNlVmFsdWUgPSB2YWx1ZTsKICAgIHJldHVybiBuZXh0LnZhbHVlLnJlc3BvbnNlOwogIH0pOwp9CgovKioKICogR2VuZXJhdG9yIGZ1bmN0aW9uIHdoaWNoIGlzIGNhbGxlZCBiZXR3ZWVuIGVhY2ggYXN5bmMgc3RlcCBvZiB0aGUgdXBsb2FkCiAqIHByb2Nlc3MuCiAqIEBwYXJhbSB7c3RyaW5nfSBpbnB1dElkIEVsZW1lbnQgSUQgb2YgdGhlIGlucHV0IGZpbGUgcGlja2VyIGVsZW1lbnQuCiAqIEBwYXJhbSB7c3RyaW5nfSBvdXRwdXRJZCBFbGVtZW50IElEIG9mIHRoZSBvdXRwdXQgZGlzcGxheS4KICogQHJldHVybiB7IUl0ZXJhYmxlPCFPYmplY3Q+fSBJdGVyYWJsZSBvZiBuZXh0IHN0ZXBzLgogKi8KZnVuY3Rpb24qIHVwbG9hZEZpbGVzU3RlcChpbnB1dElkLCBvdXRwdXRJZCkgewogIGNvbnN0IGlucHV0RWxlbWVudCA9IGRvY3VtZW50LmdldEVsZW1lbnRCeUlkKGlucHV0SWQpOwogIGlucHV0RWxlbWVudC5kaXNhYmxlZCA9IGZhbHNlOwoKICBjb25zdCBvdXRwdXRFbGVtZW50ID0gZG9jdW1lbnQuZ2V0RWxlbWVudEJ5SWQob3V0cHV0SWQpOwogIG91dHB1dEVsZW1lbnQuaW5uZXJIVE1MID0gJyc7CgogIGNvbnN0IHBpY2tlZFByb21pc2UgPSBuZXcgUHJvbWlzZSgocmVzb2x2ZSkgPT4gewogICAgaW5wdXRFbGVtZW50LmFkZEV2ZW50TGlzdGVuZXIoJ2NoYW5nZScsIChlKSA9PiB7CiAgICAgIHJlc29sdmUoZS50YXJnZXQuZmlsZXMpOwogICAgfSk7CiAgfSk7CgogIGNvbnN0IGNhbmNlbCA9IGRvY3VtZW50LmNyZWF0ZUVsZW1lbnQoJ2J1dHRvbicpOwogIGlucHV0RWxlbWVudC5wYXJlbnRFbGVtZW50LmFwcGVuZENoaWxkKGNhbmNlbCk7CiAgY2FuY2VsLnRleHRDb250ZW50ID0gJ0NhbmNlbCB1cGxvYWQnOwogIGNvbnN0IGNhbmNlbFByb21pc2UgPSBuZXcgUHJvbWlzZSgocmVzb2x2ZSkgPT4gewogICAgY2FuY2VsLm9uY2xpY2sgPSAoKSA9PiB7CiAgICAgIHJlc29sdmUobnVsbCk7CiAgICB9OwogIH0pOwoKICAvLyBXYWl0IGZvciB0aGUgdXNlciB0byBwaWNrIHRoZSBmaWxlcy4KICBjb25zdCBmaWxlcyA9IHlpZWxkIHsKICAgIHByb21pc2U6IFByb21pc2UucmFjZShbcGlja2VkUHJvbWlzZSwgY2FuY2VsUHJvbWlzZV0pLAogICAgcmVzcG9uc2U6IHsKICAgICAgYWN0aW9uOiAnc3RhcnRpbmcnLAogICAgfQogIH07CgogIGNhbmNlbC5yZW1vdmUoKTsKCiAgLy8gRGlzYWJsZSB0aGUgaW5wdXQgZWxlbWVudCBzaW5jZSBmdXJ0aGVyIHBpY2tzIGFyZSBub3QgYWxsb3dlZC4KICBpbnB1dEVsZW1lbnQuZGlzYWJsZWQgPSB0cnVlOwoKICBpZiAoIWZpbGVzKSB7CiAgICByZXR1cm4gewogICAgICByZXNwb25zZTogewogICAgICAgIGFjdGlvbjogJ2NvbXBsZXRlJywKICAgICAgfQogICAgfTsKICB9CgogIGZvciAoY29uc3QgZmlsZSBvZiBmaWxlcykgewogICAgY29uc3QgbGkgPSBkb2N1bWVudC5jcmVhdGVFbGVtZW50KCdsaScpOwogICAgbGkuYXBwZW5kKHNwYW4oZmlsZS5uYW1lLCB7Zm9udFdlaWdodDogJ2JvbGQnfSkpOwogICAgbGkuYXBwZW5kKHNwYW4oCiAgICAgICAgYCgke2ZpbGUudHlwZSB8fCAnbi9hJ30pIC0gJHtmaWxlLnNpemV9IGJ5dGVzLCBgICsKICAgICAgICBgbGFzdCBtb2RpZmllZDogJHsKICAgICAgICAgICAgZmlsZS5sYXN0TW9kaWZpZWREYXRlID8gZmlsZS5sYXN0TW9kaWZpZWREYXRlLnRvTG9jYWxlRGF0ZVN0cmluZygpIDoKICAgICAgICAgICAgICAgICAgICAgICAgICAgICAgICAgICAgJ24vYSd9IC0gYCkpOwogICAgY29uc3QgcGVyY2VudCA9IHNwYW4oJzAlIGRvbmUnKTsKICAgIGxpLmFwcGVuZENoaWxkKHBlcmNlbnQpOwoKICAgIG91dHB1dEVsZW1lbnQuYXBwZW5kQ2hpbGQobGkpOwoKICAgIGNvbnN0IGZpbGVEYXRhUHJvbWlzZSA9IG5ldyBQcm9taXNlKChyZXNvbHZlKSA9PiB7CiAgICAgIGNvbnN0IHJlYWRlciA9IG5ldyBGaWxlUmVhZGVyKCk7CiAgICAgIHJlYWRlci5vbmxvYWQgPSAoZSkgPT4gewogICAgICAgIHJlc29sdmUoZS50YXJnZXQucmVzdWx0KTsKICAgICAgfTsKICAgICAgcmVhZGVyLnJlYWRBc0FycmF5QnVmZmVyKGZpbGUpOwogICAgfSk7CiAgICAvLyBXYWl0IGZvciB0aGUgZGF0YSB0byBiZSByZWFkeS4KICAgIGxldCBmaWxlRGF0YSA9IHlpZWxkIHsKICAgICAgcHJvbWlzZTogZmlsZURhdGFQcm9taXNlLAogICAgICByZXNwb25zZTogewogICAgICAgIGFjdGlvbjogJ2NvbnRpbnVlJywKICAgICAgfQogICAgfTsKCiAgICAvLyBVc2UgYSBjaHVua2VkIHNlbmRpbmcgdG8gYXZvaWQgbWVzc2FnZSBzaXplIGxpbWl0cy4gU2VlIGIvNjIxMTU2NjAuCiAgICBsZXQgcG9zaXRpb24gPSAwOwogICAgd2hpbGUgKHBvc2l0aW9uIDwgZmlsZURhdGEuYnl0ZUxlbmd0aCkgewogICAgICBjb25zdCBsZW5ndGggPSBNYXRoLm1pbihmaWxlRGF0YS5ieXRlTGVuZ3RoIC0gcG9zaXRpb24sIE1BWF9QQVlMT0FEX1NJWkUpOwogICAgICBjb25zdCBjaHVuayA9IG5ldyBVaW50OEFycmF5KGZpbGVEYXRhLCBwb3NpdGlvbiwgbGVuZ3RoKTsKICAgICAgcG9zaXRpb24gKz0gbGVuZ3RoOwoKICAgICAgY29uc3QgYmFzZTY0ID0gYnRvYShTdHJpbmcuZnJvbUNoYXJDb2RlLmFwcGx5KG51bGwsIGNodW5rKSk7CiAgICAgIHlpZWxkIHsKICAgICAgICByZXNwb25zZTogewogICAgICAgICAgYWN0aW9uOiAnYXBwZW5kJywKICAgICAgICAgIGZpbGU6IGZpbGUubmFtZSwKICAgICAgICAgIGRhdGE6IGJhc2U2NCwKICAgICAgICB9LAogICAgICB9OwogICAgICBwZXJjZW50LnRleHRDb250ZW50ID0KICAgICAgICAgIGAke01hdGgucm91bmQoKHBvc2l0aW9uIC8gZmlsZURhdGEuYnl0ZUxlbmd0aCkgKiAxMDApfSUgZG9uZWA7CiAgICB9CiAgfQoKICAvLyBBbGwgZG9uZS4KICB5aWVsZCB7CiAgICByZXNwb25zZTogewogICAgICBhY3Rpb246ICdjb21wbGV0ZScsCiAgICB9CiAgfTsKfQoKc2NvcGUuZ29vZ2xlID0gc2NvcGUuZ29vZ2xlIHx8IHt9OwpzY29wZS5nb29nbGUuY29sYWIgPSBzY29wZS5nb29nbGUuY29sYWIgfHwge307CnNjb3BlLmdvb2dsZS5jb2xhYi5fZmlsZXMgPSB7CiAgX3VwbG9hZEZpbGVzLAogIF91cGxvYWRGaWxlc0NvbnRpbnVlLAp9Owp9KShzZWxmKTsK",
              "ok": true,
              "headers": [
                [
                  "content-type",
                  "application/javascript"
                ]
              ],
              "status": 200,
              "status_text": ""
            }
          },
          "base_uri": "https://localhost:8080/",
          "height": 73
        }
      },
      "source": [
        "from google.colab import files\n",
        "uploaded = files.upload()\n",
        "\n"
      ],
      "execution_count": 1,
      "outputs": [
        {
          "output_type": "display_data",
          "data": {
            "text/html": [
              "\n",
              "     <input type=\"file\" id=\"files-3e2ea654-b7f3-4731-aba3-46848f70a233\" name=\"files[]\" multiple disabled\n",
              "        style=\"border:none\" />\n",
              "     <output id=\"result-3e2ea654-b7f3-4731-aba3-46848f70a233\">\n",
              "      Upload widget is only available when the cell has been executed in the\n",
              "      current browser session. Please rerun this cell to enable.\n",
              "      </output>\n",
              "      <script src=\"/nbextensions/google.colab/files.js\"></script> "
            ],
            "text/plain": [
              "<IPython.core.display.HTML object>"
            ]
          },
          "metadata": {
            "tags": []
          }
        },
        {
          "output_type": "stream",
          "text": [
            "Saving jeee16t08.csv to jeee16t08 (1).csv\n"
          ],
          "name": "stdout"
        }
      ]
    },
    {
      "cell_type": "code",
      "metadata": {
        "id": "mz02ZBQU4xzB"
      },
      "source": [
        "#import pandas as pd\n",
        "import pandas as pd\n",
        "#read the csv into a data frame\n",
        "df = pd.read_csv('jeee16t08.csv')\n"
      ],
      "execution_count": 2,
      "outputs": []
    },
    {
      "cell_type": "markdown",
      "metadata": {
        "id": "eHolaw7d0WFl"
      },
      "source": [
        "**Part 1: Introdution**"
      ]
    },
    {
      "cell_type": "markdown",
      "metadata": {
        "id": "q8rB1zp6zdUG"
      },
      "source": [
        "**A brief summary of the type of data you’ve chosen to work with and the research question you hope to answer with it.**\n",
        "\n",
        "\n"
      ]
    },
    {
      "cell_type": "markdown",
      "metadata": {
        "id": "PFPUzdVg8Go1"
      },
      "source": [
        "The data set being used contains 52 rows and 11 columns. We will be utilizing 50 of the 52 rows and 6 columns. More specifically we will be removing all columns referring to employment data. The rows we are removing are the \"District of Columbia\" as it is not technically a state and \"Total\" as we don't need it for our analysis.\n",
        "\n",
        "\n",
        "The remaining data includes the 50 States, the Population of those States, and the percent capita that state governments spent in millions of dollars on the Justice System, Police Protection, Judicial and Legal, and Corrections(Jail/Prison)."
      ]
    },
    {
      "cell_type": "markdown",
      "metadata": {
        "id": "bs72XQyT-m4R"
      },
      "source": [
        "**Research question:** \n",
        "Our research questions will be broken into sections.\n",
        "We will be answering for each of the five columns bellow -  \n",
        "\n",
        "\n",
        "Q1:Did any of the states pay so much or so little that they may be considered outliers in comparison to other states?\n",
        "\n",
        "Steps Taken: Generate the interquartile range of the Per Capita columns and create a box plot showing the outliers.\n",
        "\n",
        "Q2: Can we determine which states paid the most to least in descending order?\n",
        "\n",
        "Steps Taken: Create five new data frames of each of the Per capita columns by state. Then make a bar plot of these new data frames in descending order.\n",
        "\n",
        "1) Total justice system PC \n",
        "\n",
        "2) Police Protection PC \n",
        "\n",
        "3) Judicial and legal PC  \n",
        "\n",
        "4) Corrections PC\n",
        "\n",
        "5) Total_PC\n"
      ]
    },
    {
      "cell_type": "markdown",
      "metadata": {
        "id": "-UTtKAus0Mo_"
      },
      "source": [
        "**Part 2: Data Summary**"
      ]
    },
    {
      "cell_type": "markdown",
      "metadata": {
        "id": "rrksknht0fkI"
      },
      "source": [
        "**Explain where you acquired your data from; how many use cases your data set provides; how many attributes are in each use case; what the data types are for each of the attributes; etc. Be sure include any Python code used as part of your Data Summary work.**"
      ]
    },
    {
      "cell_type": "markdown",
      "metadata": {
        "id": "nuCOPYdDepY1"
      },
      "source": [
        "This data was acquired from  Kaggel.com. After working with the data set I realized that kaggel had taken the data from Data World. Both are mentioned in the References section. The data has a variety of use cases which include analyzing the Per capita data, analyzing the employment data, and comparing data with the population column. All columns except the State column are float64. While State is an object."
      ]
    },
    {
      "cell_type": "markdown",
      "metadata": {
        "id": "gWmXVo0VI9Ux"
      },
      "source": [
        "Show the head of our dataframe so that we know what we are working with."
      ]
    },
    {
      "cell_type": "code",
      "metadata": {
        "id": "jYZOBpONof7_",
        "outputId": "e3e53a3a-319e-4075-90f8-b3b307b60e77",
        "colab": {
          "base_uri": "https://localhost:8080/",
          "height": 425
        }
      },
      "source": [
        "#print first 10 rows of the dataframe\n",
        "df.head(10)\n"
      ],
      "execution_count": 3,
      "outputs": [
        {
          "output_type": "execute_result",
          "data": {
            "text/html": [
              "<div>\n",
              "<style scoped>\n",
              "    .dataframe tbody tr th:only-of-type {\n",
              "        vertical-align: middle;\n",
              "    }\n",
              "\n",
              "    .dataframe tbody tr th {\n",
              "        vertical-align: top;\n",
              "    }\n",
              "\n",
              "    .dataframe thead th {\n",
              "        text-align: right;\n",
              "    }\n",
              "</style>\n",
              "<table border=\"1\" class=\"dataframe\">\n",
              "  <thead>\n",
              "    <tr style=\"text-align: right;\">\n",
              "      <th></th>\n",
              "      <th>State</th>\n",
              "      <th>Population 2016</th>\n",
              "      <th>Total justice system PC</th>\n",
              "      <th>Police Protection PC</th>\n",
              "      <th>Judicial and legal PC</th>\n",
              "      <th>Corrections PC</th>\n",
              "      <th>Total justice system Employment</th>\n",
              "      <th>police protection Total Employment</th>\n",
              "      <th>police protection Sworn only Employment</th>\n",
              "      <th>Judicial and legal Employment</th>\n",
              "      <th>Corrections Employment</th>\n",
              "    </tr>\n",
              "  </thead>\n",
              "  <tbody>\n",
              "    <tr>\n",
              "      <th>0</th>\n",
              "      <td>Total</td>\n",
              "      <td>323071342</td>\n",
              "      <td>722.70</td>\n",
              "      <td>338.04</td>\n",
              "      <td>143.18</td>\n",
              "      <td>241.48</td>\n",
              "      <td>63.12</td>\n",
              "      <td>28.51</td>\n",
              "      <td>21.73</td>\n",
              "      <td>12.83</td>\n",
              "      <td>21.78</td>\n",
              "    </tr>\n",
              "    <tr>\n",
              "      <th>1</th>\n",
              "      <td>Alabama</td>\n",
              "      <td>4864745</td>\n",
              "      <td>480.11</td>\n",
              "      <td>257.21</td>\n",
              "      <td>74.43</td>\n",
              "      <td>148.47</td>\n",
              "      <td>55.43</td>\n",
              "      <td>29.08</td>\n",
              "      <td>23.00</td>\n",
              "      <td>9.73</td>\n",
              "      <td>16.62</td>\n",
              "    </tr>\n",
              "    <tr>\n",
              "      <th>2</th>\n",
              "      <td>Alaska</td>\n",
              "      <td>741504</td>\n",
              "      <td>1297.65</td>\n",
              "      <td>499.27</td>\n",
              "      <td>342.55</td>\n",
              "      <td>455.84</td>\n",
              "      <td>77.18</td>\n",
              "      <td>25.68</td>\n",
              "      <td>15.58</td>\n",
              "      <td>20.08</td>\n",
              "      <td>31.42</td>\n",
              "    </tr>\n",
              "    <tr>\n",
              "      <th>3</th>\n",
              "      <td>Arizona</td>\n",
              "      <td>6945452</td>\n",
              "      <td>709.77</td>\n",
              "      <td>325.62</td>\n",
              "      <td>141.59</td>\n",
              "      <td>242.56</td>\n",
              "      <td>66.07</td>\n",
              "      <td>28.30</td>\n",
              "      <td>20.43</td>\n",
              "      <td>15.91</td>\n",
              "      <td>21.85</td>\n",
              "    </tr>\n",
              "    <tr>\n",
              "      <th>4</th>\n",
              "      <td>Arkansas</td>\n",
              "      <td>2990410</td>\n",
              "      <td>503.99</td>\n",
              "      <td>231.09</td>\n",
              "      <td>73.68</td>\n",
              "      <td>199.21</td>\n",
              "      <td>68.44</td>\n",
              "      <td>29.50</td>\n",
              "      <td>22.11</td>\n",
              "      <td>11.52</td>\n",
              "      <td>27.41</td>\n",
              "    </tr>\n",
              "    <tr>\n",
              "      <th>5</th>\n",
              "      <td>California</td>\n",
              "      <td>39209127</td>\n",
              "      <td>1063.89</td>\n",
              "      <td>448.11</td>\n",
              "      <td>221.27</td>\n",
              "      <td>394.51</td>\n",
              "      <td>59.85</td>\n",
              "      <td>25.65</td>\n",
              "      <td>18.27</td>\n",
              "      <td>11.31</td>\n",
              "      <td>22.89</td>\n",
              "    </tr>\n",
              "    <tr>\n",
              "      <th>6</th>\n",
              "      <td>Colorado</td>\n",
              "      <td>5540921</td>\n",
              "      <td>711.18</td>\n",
              "      <td>338.09</td>\n",
              "      <td>136.11</td>\n",
              "      <td>236.98</td>\n",
              "      <td>62.81</td>\n",
              "      <td>28.12</td>\n",
              "      <td>19.81</td>\n",
              "      <td>14.09</td>\n",
              "      <td>20.60</td>\n",
              "    </tr>\n",
              "    <tr>\n",
              "      <th>7</th>\n",
              "      <td>Connecticut</td>\n",
              "      <td>3578674</td>\n",
              "      <td>767.90</td>\n",
              "      <td>345.66</td>\n",
              "      <td>231.06</td>\n",
              "      <td>191.18</td>\n",
              "      <td>61.58</td>\n",
              "      <td>28.14</td>\n",
              "      <td>22.43</td>\n",
              "      <td>17.23</td>\n",
              "      <td>16.20</td>\n",
              "    </tr>\n",
              "    <tr>\n",
              "      <th>8</th>\n",
              "      <td>Delaware</td>\n",
              "      <td>949216</td>\n",
              "      <td>910.60</td>\n",
              "      <td>366.65</td>\n",
              "      <td>219.12</td>\n",
              "      <td>324.84</td>\n",
              "      <td>78.60</td>\n",
              "      <td>27.45</td>\n",
              "      <td>21.58</td>\n",
              "      <td>20.28</td>\n",
              "      <td>30.87</td>\n",
              "    </tr>\n",
              "    <tr>\n",
              "      <th>9</th>\n",
              "      <td>District of Columbia</td>\n",
              "      <td>686575</td>\n",
              "      <td>1268.29</td>\n",
              "      <td>864.21</td>\n",
              "      <td>193.01</td>\n",
              "      <td>211.07</td>\n",
              "      <td>112.53</td>\n",
              "      <td>63.36</td>\n",
              "      <td>54.85</td>\n",
              "      <td>29.39</td>\n",
              "      <td>19.78</td>\n",
              "    </tr>\n",
              "  </tbody>\n",
              "</table>\n",
              "</div>"
            ],
            "text/plain": [
              "                  State  ...  Corrections Employment \n",
              "0                 Total  ...                    21.78\n",
              "1               Alabama  ...                    16.62\n",
              "2                Alaska  ...                    31.42\n",
              "3               Arizona  ...                    21.85\n",
              "4              Arkansas  ...                    27.41\n",
              "5            California  ...                    22.89\n",
              "6              Colorado  ...                    20.60\n",
              "7           Connecticut  ...                    16.20\n",
              "8              Delaware  ...                    30.87\n",
              "9  District of Columbia  ...                    19.78\n",
              "\n",
              "[10 rows x 11 columns]"
            ]
          },
          "metadata": {
            "tags": []
          },
          "execution_count": 3
        }
      ]
    },
    {
      "cell_type": "markdown",
      "metadata": {
        "id": "Vy1g0IUFJFmd"
      },
      "source": [
        "Show the tail of our dataframe so that we know what we are working with."
      ]
    },
    {
      "cell_type": "code",
      "metadata": {
        "id": "rdoIT-sSokMn",
        "outputId": "de641d89-fc66-486e-eba5-56be9ea4732d",
        "colab": {
          "base_uri": "https://localhost:8080/",
          "height": 442
        }
      },
      "source": [
        "#print last 10 rows of the dataframe\n",
        "df.tail(10)"
      ],
      "execution_count": 4,
      "outputs": [
        {
          "output_type": "execute_result",
          "data": {
            "text/html": [
              "<div>\n",
              "<style scoped>\n",
              "    .dataframe tbody tr th:only-of-type {\n",
              "        vertical-align: middle;\n",
              "    }\n",
              "\n",
              "    .dataframe tbody tr th {\n",
              "        vertical-align: top;\n",
              "    }\n",
              "\n",
              "    .dataframe thead th {\n",
              "        text-align: right;\n",
              "    }\n",
              "</style>\n",
              "<table border=\"1\" class=\"dataframe\">\n",
              "  <thead>\n",
              "    <tr style=\"text-align: right;\">\n",
              "      <th></th>\n",
              "      <th>State</th>\n",
              "      <th>Population 2016</th>\n",
              "      <th>Total justice system PC</th>\n",
              "      <th>Police Protection PC</th>\n",
              "      <th>Judicial and legal PC</th>\n",
              "      <th>Corrections PC</th>\n",
              "      <th>Total justice system Employment</th>\n",
              "      <th>police protection Total Employment</th>\n",
              "      <th>police protection Sworn only Employment</th>\n",
              "      <th>Judicial and legal Employment</th>\n",
              "      <th>Corrections Employment</th>\n",
              "    </tr>\n",
              "  </thead>\n",
              "  <tbody>\n",
              "    <tr>\n",
              "      <th>42</th>\n",
              "      <td>South Dakota</td>\n",
              "      <td>862890</td>\n",
              "      <td>547.21</td>\n",
              "      <td>233.25</td>\n",
              "      <td>105.77</td>\n",
              "      <td>208.19</td>\n",
              "      <td>53.08</td>\n",
              "      <td>24.34</td>\n",
              "      <td>19.46</td>\n",
              "      <td>11.47</td>\n",
              "      <td>17.27</td>\n",
              "    </tr>\n",
              "    <tr>\n",
              "      <th>43</th>\n",
              "      <td>Tennessee</td>\n",
              "      <td>6645011</td>\n",
              "      <td>571.23</td>\n",
              "      <td>279.13</td>\n",
              "      <td>115.18</td>\n",
              "      <td>176.92</td>\n",
              "      <td>61.78</td>\n",
              "      <td>31.61</td>\n",
              "      <td>25.46</td>\n",
              "      <td>11.32</td>\n",
              "      <td>18.85</td>\n",
              "    </tr>\n",
              "    <tr>\n",
              "      <th>44</th>\n",
              "      <td>Texas</td>\n",
              "      <td>27937492</td>\n",
              "      <td>592.19</td>\n",
              "      <td>272.58</td>\n",
              "      <td>107.66</td>\n",
              "      <td>211.95</td>\n",
              "      <td>61.91</td>\n",
              "      <td>27.25</td>\n",
              "      <td>19.87</td>\n",
              "      <td>10.00</td>\n",
              "      <td>24.67</td>\n",
              "    </tr>\n",
              "    <tr>\n",
              "      <th>45</th>\n",
              "      <td>Utah</td>\n",
              "      <td>3042613</td>\n",
              "      <td>503.63</td>\n",
              "      <td>215.29</td>\n",
              "      <td>115.28</td>\n",
              "      <td>173.06</td>\n",
              "      <td>47.71</td>\n",
              "      <td>20.83</td>\n",
              "      <td>14.38</td>\n",
              "      <td>9.83</td>\n",
              "      <td>17.04</td>\n",
              "    </tr>\n",
              "    <tr>\n",
              "      <th>46</th>\n",
              "      <td>Vermont</td>\n",
              "      <td>623644</td>\n",
              "      <td>650.75</td>\n",
              "      <td>301.79</td>\n",
              "      <td>129.11</td>\n",
              "      <td>219.84</td>\n",
              "      <td>52.69</td>\n",
              "      <td>23.94</td>\n",
              "      <td>16.02</td>\n",
              "      <td>11.30</td>\n",
              "      <td>17.45</td>\n",
              "    </tr>\n",
              "    <tr>\n",
              "      <th>47</th>\n",
              "      <td>Virginia</td>\n",
              "      <td>8410946</td>\n",
              "      <td>705.52</td>\n",
              "      <td>277.95</td>\n",
              "      <td>123.12</td>\n",
              "      <td>304.45</td>\n",
              "      <td>66.47</td>\n",
              "      <td>26.06</td>\n",
              "      <td>20.93</td>\n",
              "      <td>10.71</td>\n",
              "      <td>29.70</td>\n",
              "    </tr>\n",
              "    <tr>\n",
              "      <th>48</th>\n",
              "      <td>Washington</td>\n",
              "      <td>7294680</td>\n",
              "      <td>660.33</td>\n",
              "      <td>267.91</td>\n",
              "      <td>155.59</td>\n",
              "      <td>236.83</td>\n",
              "      <td>49.34</td>\n",
              "      <td>19.76</td>\n",
              "      <td>13.68</td>\n",
              "      <td>11.54</td>\n",
              "      <td>18.04</td>\n",
              "    </tr>\n",
              "    <tr>\n",
              "      <th>49</th>\n",
              "      <td>West Virginia</td>\n",
              "      <td>1830929</td>\n",
              "      <td>555.79</td>\n",
              "      <td>211.49</td>\n",
              "      <td>151.51</td>\n",
              "      <td>192.79</td>\n",
              "      <td>58.25</td>\n",
              "      <td>22.48</td>\n",
              "      <td>17.97</td>\n",
              "      <td>15.30</td>\n",
              "      <td>20.47</td>\n",
              "    </tr>\n",
              "    <tr>\n",
              "      <th>50</th>\n",
              "      <td>Wisconsin</td>\n",
              "      <td>5772958</td>\n",
              "      <td>708.58</td>\n",
              "      <td>324.53</td>\n",
              "      <td>114.83</td>\n",
              "      <td>269.22</td>\n",
              "      <td>60.33</td>\n",
              "      <td>27.63</td>\n",
              "      <td>21.22</td>\n",
              "      <td>9.40</td>\n",
              "      <td>23.29</td>\n",
              "    </tr>\n",
              "    <tr>\n",
              "      <th>51</th>\n",
              "      <td>Wyoming</td>\n",
              "      <td>584290</td>\n",
              "      <td>997.13</td>\n",
              "      <td>413.82</td>\n",
              "      <td>216.09</td>\n",
              "      <td>367.22</td>\n",
              "      <td>85.03</td>\n",
              "      <td>34.78</td>\n",
              "      <td>25.28</td>\n",
              "      <td>16.91</td>\n",
              "      <td>33.34</td>\n",
              "    </tr>\n",
              "  </tbody>\n",
              "</table>\n",
              "</div>"
            ],
            "text/plain": [
              "            State  ...  Corrections Employment \n",
              "42   South Dakota  ...                    17.27\n",
              "43      Tennessee  ...                    18.85\n",
              "44          Texas  ...                    24.67\n",
              "45           Utah  ...                    17.04\n",
              "46        Vermont  ...                    17.45\n",
              "47       Virginia  ...                    29.70\n",
              "48     Washington  ...                    18.04\n",
              "49  West Virginia  ...                    20.47\n",
              "50      Wisconsin  ...                    23.29\n",
              "51        Wyoming  ...                    33.34\n",
              "\n",
              "[10 rows x 11 columns]"
            ]
          },
          "metadata": {
            "tags": []
          },
          "execution_count": 4
        }
      ]
    },
    {
      "cell_type": "markdown",
      "metadata": {
        "id": "d8Aejg9jJJuX"
      },
      "source": [
        "Show the description of the data so that we have some basic summary statistics."
      ]
    },
    {
      "cell_type": "code",
      "metadata": {
        "id": "Gar4aYo85XhE",
        "outputId": "b5c46bc9-99e4-47d1-8f74-a459375aaf1e",
        "colab": {
          "base_uri": "https://localhost:8080/",
          "height": 346
        }
      },
      "source": [
        "#View the description of our data. \n",
        "df.describe()"
      ],
      "execution_count": 5,
      "outputs": [
        {
          "output_type": "execute_result",
          "data": {
            "text/html": [
              "<div>\n",
              "<style scoped>\n",
              "    .dataframe tbody tr th:only-of-type {\n",
              "        vertical-align: middle;\n",
              "    }\n",
              "\n",
              "    .dataframe tbody tr th {\n",
              "        vertical-align: top;\n",
              "    }\n",
              "\n",
              "    .dataframe thead th {\n",
              "        text-align: right;\n",
              "    }\n",
              "</style>\n",
              "<table border=\"1\" class=\"dataframe\">\n",
              "  <thead>\n",
              "    <tr style=\"text-align: right;\">\n",
              "      <th></th>\n",
              "      <th>Population 2016</th>\n",
              "      <th>Total justice system PC</th>\n",
              "      <th>Police Protection PC</th>\n",
              "      <th>Judicial and legal PC</th>\n",
              "      <th>Corrections PC</th>\n",
              "      <th>Total justice system Employment</th>\n",
              "      <th>police protection Total Employment</th>\n",
              "      <th>police protection Sworn only Employment</th>\n",
              "      <th>Judicial and legal Employment</th>\n",
              "      <th>Corrections Employment</th>\n",
              "    </tr>\n",
              "  </thead>\n",
              "  <tbody>\n",
              "    <tr>\n",
              "      <th>count</th>\n",
              "      <td>5.200000e+01</td>\n",
              "      <td>52.000000</td>\n",
              "      <td>52.000000</td>\n",
              "      <td>52.000000</td>\n",
              "      <td>52.000000</td>\n",
              "      <td>52.000000</td>\n",
              "      <td>52.000000</td>\n",
              "      <td>52.000000</td>\n",
              "      <td>52.000000</td>\n",
              "      <td>52.000000</td>\n",
              "    </tr>\n",
              "    <tr>\n",
              "      <th>mean</th>\n",
              "      <td>1.242582e+07</td>\n",
              "      <td>690.660577</td>\n",
              "      <td>322.158269</td>\n",
              "      <td>141.855192</td>\n",
              "      <td>226.646923</td>\n",
              "      <td>62.916154</td>\n",
              "      <td>28.313462</td>\n",
              "      <td>21.539038</td>\n",
              "      <td>13.510192</td>\n",
              "      <td>21.091154</td>\n",
              "    </tr>\n",
              "    <tr>\n",
              "      <th>std</th>\n",
              "      <td>4.450496e+07</td>\n",
              "      <td>187.468456</td>\n",
              "      <td>107.396671</td>\n",
              "      <td>50.892977</td>\n",
              "      <td>68.012654</td>\n",
              "      <td>11.790483</td>\n",
              "      <td>6.775407</td>\n",
              "      <td>6.321692</td>\n",
              "      <td>4.169876</td>\n",
              "      <td>4.866900</td>\n",
              "    </tr>\n",
              "    <tr>\n",
              "      <th>min</th>\n",
              "      <td>5.842900e+05</td>\n",
              "      <td>450.080000</td>\n",
              "      <td>160.320000</td>\n",
              "      <td>72.350000</td>\n",
              "      <td>141.860000</td>\n",
              "      <td>42.660000</td>\n",
              "      <td>19.760000</td>\n",
              "      <td>13.680000</td>\n",
              "      <td>7.290000</td>\n",
              "      <td>13.600000</td>\n",
              "    </tr>\n",
              "    <tr>\n",
              "      <th>25%</th>\n",
              "      <td>1.793929e+06</td>\n",
              "      <td>557.665000</td>\n",
              "      <td>262.160000</td>\n",
              "      <td>111.995000</td>\n",
              "      <td>177.062500</td>\n",
              "      <td>55.805000</td>\n",
              "      <td>24.902500</td>\n",
              "      <td>17.825000</td>\n",
              "      <td>10.792500</td>\n",
              "      <td>17.645000</td>\n",
              "    </tr>\n",
              "    <tr>\n",
              "      <th>50%</th>\n",
              "      <td>4.558222e+06</td>\n",
              "      <td>667.840000</td>\n",
              "      <td>297.555000</td>\n",
              "      <td>134.270000</td>\n",
              "      <td>209.160000</td>\n",
              "      <td>61.005000</td>\n",
              "      <td>27.570000</td>\n",
              "      <td>20.950000</td>\n",
              "      <td>12.785000</td>\n",
              "      <td>20.095000</td>\n",
              "    </tr>\n",
              "    <tr>\n",
              "      <th>75%</th>\n",
              "      <td>7.573746e+06</td>\n",
              "      <td>746.622500</td>\n",
              "      <td>352.662500</td>\n",
              "      <td>160.262500</td>\n",
              "      <td>248.925000</td>\n",
              "      <td>66.350000</td>\n",
              "      <td>29.652500</td>\n",
              "      <td>22.725000</td>\n",
              "      <td>15.540000</td>\n",
              "      <td>24.497500</td>\n",
              "    </tr>\n",
              "    <tr>\n",
              "      <th>max</th>\n",
              "      <td>3.230713e+08</td>\n",
              "      <td>1297.650000</td>\n",
              "      <td>864.210000</td>\n",
              "      <td>342.550000</td>\n",
              "      <td>455.840000</td>\n",
              "      <td>112.530000</td>\n",
              "      <td>63.360000</td>\n",
              "      <td>54.850000</td>\n",
              "      <td>29.390000</td>\n",
              "      <td>33.340000</td>\n",
              "    </tr>\n",
              "  </tbody>\n",
              "</table>\n",
              "</div>"
            ],
            "text/plain": [
              "       Population 2016  ...  Corrections Employment \n",
              "count     5.200000e+01  ...                52.000000\n",
              "mean      1.242582e+07  ...                21.091154\n",
              "std       4.450496e+07  ...                 4.866900\n",
              "min       5.842900e+05  ...                13.600000\n",
              "25%       1.793929e+06  ...                17.645000\n",
              "50%       4.558222e+06  ...                20.095000\n",
              "75%       7.573746e+06  ...                24.497500\n",
              "max       3.230713e+08  ...                33.340000\n",
              "\n",
              "[8 rows x 10 columns]"
            ]
          },
          "metadata": {
            "tags": []
          },
          "execution_count": 5
        }
      ]
    },
    {
      "cell_type": "markdown",
      "metadata": {
        "id": "nj3z3IG9JUvN"
      },
      "source": [
        "Show the info of the data to see if we are missing any information or need to change data types."
      ]
    },
    {
      "cell_type": "code",
      "metadata": {
        "id": "RbcYZXIf5kP8",
        "outputId": "883a5078-9ec2-462f-a2a9-9ba943240b92",
        "colab": {
          "base_uri": "https://localhost:8080/"
        }
      },
      "source": [
        "#View the info of our data. \n",
        "df.info()"
      ],
      "execution_count": 6,
      "outputs": [
        {
          "output_type": "stream",
          "text": [
            "<class 'pandas.core.frame.DataFrame'>\n",
            "RangeIndex: 52 entries, 0 to 51\n",
            "Data columns (total 11 columns):\n",
            " #   Column                                    Non-Null Count  Dtype  \n",
            "---  ------                                    --------------  -----  \n",
            " 0   State                                     52 non-null     object \n",
            " 1   Population 2016                           52 non-null     int64  \n",
            " 2   Total justice system PC                   52 non-null     float64\n",
            " 3   Police Protection PC                      52 non-null     float64\n",
            " 4   Judicial and legal PC                     52 non-null     float64\n",
            " 5   Corrections PC                            52 non-null     float64\n",
            " 6   Total justice system Employment           52 non-null     float64\n",
            " 7   police protection Total Employment        52 non-null     float64\n",
            " 8   police protection Sworn only Employment   52 non-null     float64\n",
            " 9   Judicial and legal Employment             52 non-null     float64\n",
            " 10  Corrections Employment                    52 non-null     float64\n",
            "dtypes: float64(9), int64(1), object(1)\n",
            "memory usage: 4.6+ KB\n"
          ],
          "name": "stdout"
        }
      ]
    },
    {
      "cell_type": "markdown",
      "metadata": {
        "id": "GPIYAsFTJflK"
      },
      "source": [
        "Show the Columns of the Dataframe so we have a clear overview of the columns we are working with."
      ]
    },
    {
      "cell_type": "code",
      "metadata": {
        "id": "T8GLbiTx6D3K",
        "outputId": "9eb971a8-7d0c-4bf2-bb0f-781624ed349f",
        "colab": {
          "base_uri": "https://localhost:8080/"
        }
      },
      "source": [
        "#View all the columns of our data. \n",
        "df.columns"
      ],
      "execution_count": 7,
      "outputs": [
        {
          "output_type": "execute_result",
          "data": {
            "text/plain": [
              "Index(['State', 'Population 2016', 'Total justice system PC ',\n",
              "       'Police Protection PC', 'Judicial and legal PC', 'Corrections PC',\n",
              "       'Total justice system Employment ',\n",
              "       'police protection Total Employment ',\n",
              "       'police protection Sworn only Employment ',\n",
              "       'Judicial and legal Employment ', 'Corrections Employment '],\n",
              "      dtype='object')"
            ]
          },
          "metadata": {
            "tags": []
          },
          "execution_count": 7
        }
      ]
    },
    {
      "cell_type": "markdown",
      "metadata": {
        "id": "Tz8BHpMzJrRf"
      },
      "source": [
        "Show the shape of the dataframe so we know how many columns and rows we are working with."
      ]
    },
    {
      "cell_type": "code",
      "metadata": {
        "id": "tl3cW7Et6VKa",
        "outputId": "7f4db7a2-d943-4965-edf6-f176b4feff87",
        "colab": {
          "base_uri": "https://localhost:8080/"
        }
      },
      "source": [
        "#View the shape of our data. \n",
        "df.shape"
      ],
      "execution_count": 8,
      "outputs": [
        {
          "output_type": "execute_result",
          "data": {
            "text/plain": [
              "(52, 11)"
            ]
          },
          "metadata": {
            "tags": []
          },
          "execution_count": 8
        }
      ]
    },
    {
      "cell_type": "markdown",
      "metadata": {
        "id": "n5CAPp4N72O7"
      },
      "source": [
        "Data Preparation: "
      ]
    },
    {
      "cell_type": "markdown",
      "metadata": {
        "id": "vhcYrwhPgYyZ"
      },
      "source": [
        "The first step in our process is to remove the obvious fat. Many of the columns in this data set and some of the rows are unnecessary for our research questions. As such they are dropped and the remaining columns are saved as a new data frame."
      ]
    },
    {
      "cell_type": "code",
      "metadata": {
        "id": "CO5X0P0aprz8",
        "outputId": "eda4a145-9e5c-4753-c59d-b78a5c2b1be4",
        "colab": {
          "base_uri": "https://localhost:8080/"
        }
      },
      "source": [
        "#View all the rows of our data by the state column. \n",
        "print(list(df['State']))"
      ],
      "execution_count": 9,
      "outputs": [
        {
          "output_type": "stream",
          "text": [
            "['Total', 'Alabama', 'Alaska', 'Arizona', 'Arkansas', 'California', 'Colorado', 'Connecticut', 'Delaware', 'District of Columbia', 'Florida', 'Georgia', 'Hawaii', 'Idaho', 'Illinois', 'Indiana', 'Iowa', 'Kansas', 'Kentucky', 'Louisiana', 'Maine', 'Maryland', 'Massachusetts', 'Michigan', 'Minnesota', 'Mississippi', 'Missouri', 'Montana', 'Nebraska', 'Nevada', 'New Hampshire', 'New Jersey', 'New Mexico', 'New York', 'North Carolina', 'North Dakota', 'Ohio', 'Oklahoma', 'Oregon', 'Pennsylvania', 'Rhode Island', 'South Carolina', 'South Dakota', 'Tennessee', 'Texas', 'Utah', 'Vermont', 'Virginia', 'Washington', 'West Virginia', 'Wisconsin', 'Wyoming']\n"
          ],
          "name": "stdout"
        }
      ]
    },
    {
      "cell_type": "markdown",
      "metadata": {
        "id": "hxYC2Am2J1nz"
      },
      "source": [
        "Drop the Total row and the District of Columbia row as neither of them are States."
      ]
    },
    {
      "cell_type": "code",
      "metadata": {
        "id": "F--21MJzqLvY"
      },
      "source": [
        "#drop Total and Distrit of columbia rows\n",
        "df1=df.drop([0,9])"
      ],
      "execution_count": 10,
      "outputs": []
    },
    {
      "cell_type": "markdown",
      "metadata": {
        "id": "C7BE9aYmKBsz"
      },
      "source": [
        "Print the list of the Stae column and its length to make sure the change was successful."
      ]
    },
    {
      "cell_type": "code",
      "metadata": {
        "id": "vPAJfp6LrG2G",
        "outputId": "63916e13-a346-4cfc-c914-5913762e18dc",
        "colab": {
          "base_uri": "https://localhost:8080/"
        }
      },
      "source": [
        "#Verify that we only have the data for our 50 states. \n",
        "print(list(df1['State']))\n",
        "print(len(list(df1['State'])))"
      ],
      "execution_count": 11,
      "outputs": [
        {
          "output_type": "stream",
          "text": [
            "['Alabama', 'Alaska', 'Arizona', 'Arkansas', 'California', 'Colorado', 'Connecticut', 'Delaware', 'Florida', 'Georgia', 'Hawaii', 'Idaho', 'Illinois', 'Indiana', 'Iowa', 'Kansas', 'Kentucky', 'Louisiana', 'Maine', 'Maryland', 'Massachusetts', 'Michigan', 'Minnesota', 'Mississippi', 'Missouri', 'Montana', 'Nebraska', 'Nevada', 'New Hampshire', 'New Jersey', 'New Mexico', 'New York', 'North Carolina', 'North Dakota', 'Ohio', 'Oklahoma', 'Oregon', 'Pennsylvania', 'Rhode Island', 'South Carolina', 'South Dakota', 'Tennessee', 'Texas', 'Utah', 'Vermont', 'Virginia', 'Washington', 'West Virginia', 'Wisconsin', 'Wyoming']\n",
            "50\n"
          ],
          "name": "stdout"
        }
      ]
    },
    {
      "cell_type": "markdown",
      "metadata": {
        "id": "KXqzlQlcKRJu"
      },
      "source": [
        "Next drop all columns that we will not be using for our analysis."
      ]
    },
    {
      "cell_type": "code",
      "metadata": {
        "id": "DucZFcJKH2Gl"
      },
      "source": [
        "#Drop all unnecessary columns\n",
        "p_capita= df1.drop(['Total justice system Employment ',\n",
        "       'police protection Total Employment ',\n",
        "       'police protection Sworn only Employment ',\n",
        "       'Judicial and legal Employment ', 'Corrections Employment '], axis=1)"
      ],
      "execution_count": 12,
      "outputs": []
    },
    {
      "cell_type": "markdown",
      "metadata": {
        "id": "fwDIZSgGg-hq"
      },
      "source": [
        "Print the head of our new data frame to make sure the drop was successful."
      ]
    },
    {
      "cell_type": "code",
      "metadata": {
        "id": "M-rm1_9HIMcZ",
        "outputId": "e786e3c1-5737-4ed8-ac80-908c55a40288",
        "colab": {
          "base_uri": "https://localhost:8080/",
          "height": 202
        }
      },
      "source": [
        "#View the head of our new data frame. \n",
        "p_capita.head()"
      ],
      "execution_count": 13,
      "outputs": [
        {
          "output_type": "execute_result",
          "data": {
            "text/html": [
              "<div>\n",
              "<style scoped>\n",
              "    .dataframe tbody tr th:only-of-type {\n",
              "        vertical-align: middle;\n",
              "    }\n",
              "\n",
              "    .dataframe tbody tr th {\n",
              "        vertical-align: top;\n",
              "    }\n",
              "\n",
              "    .dataframe thead th {\n",
              "        text-align: right;\n",
              "    }\n",
              "</style>\n",
              "<table border=\"1\" class=\"dataframe\">\n",
              "  <thead>\n",
              "    <tr style=\"text-align: right;\">\n",
              "      <th></th>\n",
              "      <th>State</th>\n",
              "      <th>Population 2016</th>\n",
              "      <th>Total justice system PC</th>\n",
              "      <th>Police Protection PC</th>\n",
              "      <th>Judicial and legal PC</th>\n",
              "      <th>Corrections PC</th>\n",
              "    </tr>\n",
              "  </thead>\n",
              "  <tbody>\n",
              "    <tr>\n",
              "      <th>1</th>\n",
              "      <td>Alabama</td>\n",
              "      <td>4864745</td>\n",
              "      <td>480.11</td>\n",
              "      <td>257.21</td>\n",
              "      <td>74.43</td>\n",
              "      <td>148.47</td>\n",
              "    </tr>\n",
              "    <tr>\n",
              "      <th>2</th>\n",
              "      <td>Alaska</td>\n",
              "      <td>741504</td>\n",
              "      <td>1297.65</td>\n",
              "      <td>499.27</td>\n",
              "      <td>342.55</td>\n",
              "      <td>455.84</td>\n",
              "    </tr>\n",
              "    <tr>\n",
              "      <th>3</th>\n",
              "      <td>Arizona</td>\n",
              "      <td>6945452</td>\n",
              "      <td>709.77</td>\n",
              "      <td>325.62</td>\n",
              "      <td>141.59</td>\n",
              "      <td>242.56</td>\n",
              "    </tr>\n",
              "    <tr>\n",
              "      <th>4</th>\n",
              "      <td>Arkansas</td>\n",
              "      <td>2990410</td>\n",
              "      <td>503.99</td>\n",
              "      <td>231.09</td>\n",
              "      <td>73.68</td>\n",
              "      <td>199.21</td>\n",
              "    </tr>\n",
              "    <tr>\n",
              "      <th>5</th>\n",
              "      <td>California</td>\n",
              "      <td>39209127</td>\n",
              "      <td>1063.89</td>\n",
              "      <td>448.11</td>\n",
              "      <td>221.27</td>\n",
              "      <td>394.51</td>\n",
              "    </tr>\n",
              "  </tbody>\n",
              "</table>\n",
              "</div>"
            ],
            "text/plain": [
              "        State  Population 2016  ...  Judicial and legal PC  Corrections PC\n",
              "1     Alabama          4864745  ...                  74.43          148.47\n",
              "2      Alaska           741504  ...                 342.55          455.84\n",
              "3     Arizona          6945452  ...                 141.59          242.56\n",
              "4    Arkansas          2990410  ...                  73.68          199.21\n",
              "5  California         39209127  ...                 221.27          394.51\n",
              "\n",
              "[5 rows x 6 columns]"
            ]
          },
          "metadata": {
            "tags": []
          },
          "execution_count": 13
        }
      ]
    },
    {
      "cell_type": "markdown",
      "metadata": {
        "id": "BeMqwWu_hOYZ"
      },
      "source": [
        "Retrieve the .info of our new dataframe to make sure everything is correct."
      ]
    },
    {
      "cell_type": "code",
      "metadata": {
        "id": "AEjTK0WfOnIR",
        "outputId": "40674472-b839-4308-8440-44fd0afaeee6",
        "colab": {
          "base_uri": "https://localhost:8080/"
        }
      },
      "source": [
        "#View the info of our new data frame. \n",
        "p_capita.info()"
      ],
      "execution_count": 14,
      "outputs": [
        {
          "output_type": "stream",
          "text": [
            "<class 'pandas.core.frame.DataFrame'>\n",
            "Int64Index: 50 entries, 1 to 51\n",
            "Data columns (total 6 columns):\n",
            " #   Column                    Non-Null Count  Dtype  \n",
            "---  ------                    --------------  -----  \n",
            " 0   State                     50 non-null     object \n",
            " 1   Population 2016           50 non-null     int64  \n",
            " 2   Total justice system PC   50 non-null     float64\n",
            " 3   Police Protection PC      50 non-null     float64\n",
            " 4   Judicial and legal PC     50 non-null     float64\n",
            " 5   Corrections PC            50 non-null     float64\n",
            "dtypes: float64(4), int64(1), object(1)\n",
            "memory usage: 2.7+ KB\n"
          ],
          "name": "stdout"
        }
      ]
    },
    {
      "cell_type": "markdown",
      "metadata": {
        "id": "_D8LPArZKmW6"
      },
      "source": [
        "Create a new column in the p_capita data frame that has the sum of all the per capita columns and show it."
      ]
    },
    {
      "cell_type": "code",
      "metadata": {
        "id": "oyT7nGFWTsFn"
      },
      "source": [
        "#Add a new column \"Total_PC\" That has the sum of the Per capita columns. \n",
        "p_capita['Total_PC'] = p_capita['Total justice system PC '] + p_capita['Police Protection PC'] + p_capita['Judicial and legal PC'] + p_capita['Corrections PC']"
      ],
      "execution_count": 15,
      "outputs": []
    },
    {
      "cell_type": "code",
      "metadata": {
        "id": "yZtVy8A63UQz",
        "outputId": "ad4d26c3-9f7f-4941-a555-1952c91635f1",
        "colab": {
          "base_uri": "https://localhost:8080/",
          "height": 1000
        }
      },
      "source": [
        "#Print the modified data frame\n",
        "p_capita"
      ],
      "execution_count": 16,
      "outputs": [
        {
          "output_type": "execute_result",
          "data": {
            "text/html": [
              "<div>\n",
              "<style scoped>\n",
              "    .dataframe tbody tr th:only-of-type {\n",
              "        vertical-align: middle;\n",
              "    }\n",
              "\n",
              "    .dataframe tbody tr th {\n",
              "        vertical-align: top;\n",
              "    }\n",
              "\n",
              "    .dataframe thead th {\n",
              "        text-align: right;\n",
              "    }\n",
              "</style>\n",
              "<table border=\"1\" class=\"dataframe\">\n",
              "  <thead>\n",
              "    <tr style=\"text-align: right;\">\n",
              "      <th></th>\n",
              "      <th>State</th>\n",
              "      <th>Population 2016</th>\n",
              "      <th>Total justice system PC</th>\n",
              "      <th>Police Protection PC</th>\n",
              "      <th>Judicial and legal PC</th>\n",
              "      <th>Corrections PC</th>\n",
              "      <th>Total_PC</th>\n",
              "    </tr>\n",
              "  </thead>\n",
              "  <tbody>\n",
              "    <tr>\n",
              "      <th>1</th>\n",
              "      <td>Alabama</td>\n",
              "      <td>4864745</td>\n",
              "      <td>480.11</td>\n",
              "      <td>257.21</td>\n",
              "      <td>74.43</td>\n",
              "      <td>148.47</td>\n",
              "      <td>960.22</td>\n",
              "    </tr>\n",
              "    <tr>\n",
              "      <th>2</th>\n",
              "      <td>Alaska</td>\n",
              "      <td>741504</td>\n",
              "      <td>1297.65</td>\n",
              "      <td>499.27</td>\n",
              "      <td>342.55</td>\n",
              "      <td>455.84</td>\n",
              "      <td>2595.31</td>\n",
              "    </tr>\n",
              "    <tr>\n",
              "      <th>3</th>\n",
              "      <td>Arizona</td>\n",
              "      <td>6945452</td>\n",
              "      <td>709.77</td>\n",
              "      <td>325.62</td>\n",
              "      <td>141.59</td>\n",
              "      <td>242.56</td>\n",
              "      <td>1419.54</td>\n",
              "    </tr>\n",
              "    <tr>\n",
              "      <th>4</th>\n",
              "      <td>Arkansas</td>\n",
              "      <td>2990410</td>\n",
              "      <td>503.99</td>\n",
              "      <td>231.09</td>\n",
              "      <td>73.68</td>\n",
              "      <td>199.21</td>\n",
              "      <td>1007.97</td>\n",
              "    </tr>\n",
              "    <tr>\n",
              "      <th>5</th>\n",
              "      <td>California</td>\n",
              "      <td>39209127</td>\n",
              "      <td>1063.89</td>\n",
              "      <td>448.11</td>\n",
              "      <td>221.27</td>\n",
              "      <td>394.51</td>\n",
              "      <td>2127.78</td>\n",
              "    </tr>\n",
              "    <tr>\n",
              "      <th>6</th>\n",
              "      <td>Colorado</td>\n",
              "      <td>5540921</td>\n",
              "      <td>711.18</td>\n",
              "      <td>338.09</td>\n",
              "      <td>136.11</td>\n",
              "      <td>236.98</td>\n",
              "      <td>1422.36</td>\n",
              "    </tr>\n",
              "    <tr>\n",
              "      <th>7</th>\n",
              "      <td>Connecticut</td>\n",
              "      <td>3578674</td>\n",
              "      <td>767.90</td>\n",
              "      <td>345.66</td>\n",
              "      <td>231.06</td>\n",
              "      <td>191.18</td>\n",
              "      <td>1535.80</td>\n",
              "    </tr>\n",
              "    <tr>\n",
              "      <th>8</th>\n",
              "      <td>Delaware</td>\n",
              "      <td>949216</td>\n",
              "      <td>910.60</td>\n",
              "      <td>366.65</td>\n",
              "      <td>219.12</td>\n",
              "      <td>324.84</td>\n",
              "      <td>1821.21</td>\n",
              "    </tr>\n",
              "    <tr>\n",
              "      <th>10</th>\n",
              "      <td>Florida</td>\n",
              "      <td>20629982</td>\n",
              "      <td>701.08</td>\n",
              "      <td>380.44</td>\n",
              "      <td>114.70</td>\n",
              "      <td>205.94</td>\n",
              "      <td>1402.16</td>\n",
              "    </tr>\n",
              "    <tr>\n",
              "      <th>11</th>\n",
              "      <td>Georgia</td>\n",
              "      <td>10304763</td>\n",
              "      <td>568.02</td>\n",
              "      <td>263.81</td>\n",
              "      <td>117.93</td>\n",
              "      <td>186.28</td>\n",
              "      <td>1136.04</td>\n",
              "    </tr>\n",
              "    <tr>\n",
              "      <th>12</th>\n",
              "      <td>Hawaii</td>\n",
              "      <td>1428105</td>\n",
              "      <td>679.89</td>\n",
              "      <td>321.41</td>\n",
              "      <td>206.21</td>\n",
              "      <td>152.27</td>\n",
              "      <td>1359.78</td>\n",
              "    </tr>\n",
              "    <tr>\n",
              "      <th>13</th>\n",
              "      <td>Idaho</td>\n",
              "      <td>1682930</td>\n",
              "      <td>593.95</td>\n",
              "      <td>271.63</td>\n",
              "      <td>118.67</td>\n",
              "      <td>203.64</td>\n",
              "      <td>1187.89</td>\n",
              "    </tr>\n",
              "    <tr>\n",
              "      <th>14</th>\n",
              "      <td>Illinois</td>\n",
              "      <td>12826895</td>\n",
              "      <td>671.84</td>\n",
              "      <td>406.65</td>\n",
              "      <td>120.78</td>\n",
              "      <td>144.41</td>\n",
              "      <td>1343.68</td>\n",
              "    </tr>\n",
              "    <tr>\n",
              "      <th>15</th>\n",
              "      <td>Indiana</td>\n",
              "      <td>6633344</td>\n",
              "      <td>450.08</td>\n",
              "      <td>189.20</td>\n",
              "      <td>86.20</td>\n",
              "      <td>174.68</td>\n",
              "      <td>900.16</td>\n",
              "    </tr>\n",
              "    <tr>\n",
              "      <th>16</th>\n",
              "      <td>Iowa</td>\n",
              "      <td>3131785</td>\n",
              "      <td>504.91</td>\n",
              "      <td>248.60</td>\n",
              "      <td>114.46</td>\n",
              "      <td>141.86</td>\n",
              "      <td>1009.83</td>\n",
              "    </tr>\n",
              "    <tr>\n",
              "      <th>17</th>\n",
              "      <td>Kansas</td>\n",
              "      <td>2911263</td>\n",
              "      <td>564.97</td>\n",
              "      <td>274.42</td>\n",
              "      <td>113.44</td>\n",
              "      <td>177.11</td>\n",
              "      <td>1129.94</td>\n",
              "    </tr>\n",
              "    <tr>\n",
              "      <th>18</th>\n",
              "      <td>Kentucky</td>\n",
              "      <td>4438229</td>\n",
              "      <td>505.74</td>\n",
              "      <td>160.32</td>\n",
              "      <td>141.84</td>\n",
              "      <td>203.58</td>\n",
              "      <td>1011.48</td>\n",
              "    </tr>\n",
              "    <tr>\n",
              "      <th>19</th>\n",
              "      <td>Louisiana</td>\n",
              "      <td>4678215</td>\n",
              "      <td>741.85</td>\n",
              "      <td>345.07</td>\n",
              "      <td>153.43</td>\n",
              "      <td>243.34</td>\n",
              "      <td>1483.69</td>\n",
              "    </tr>\n",
              "    <tr>\n",
              "      <th>20</th>\n",
              "      <td>Maine</td>\n",
              "      <td>1331370</td>\n",
              "      <td>504.40</td>\n",
              "      <td>221.53</td>\n",
              "      <td>84.49</td>\n",
              "      <td>198.39</td>\n",
              "      <td>1008.81</td>\n",
              "    </tr>\n",
              "    <tr>\n",
              "      <th>21</th>\n",
              "      <td>Maryland</td>\n",
              "      <td>6004692</td>\n",
              "      <td>912.84</td>\n",
              "      <td>441.17</td>\n",
              "      <td>155.37</td>\n",
              "      <td>316.30</td>\n",
              "      <td>1825.68</td>\n",
              "    </tr>\n",
              "    <tr>\n",
              "      <th>22</th>\n",
              "      <td>Massachusetts</td>\n",
              "      <td>6826022</td>\n",
              "      <td>689.91</td>\n",
              "      <td>366.53</td>\n",
              "      <td>159.38</td>\n",
              "      <td>164.00</td>\n",
              "      <td>1379.82</td>\n",
              "    </tr>\n",
              "    <tr>\n",
              "      <th>23</th>\n",
              "      <td>Michigan</td>\n",
              "      <td>9951890</td>\n",
              "      <td>620.48</td>\n",
              "      <td>252.10</td>\n",
              "      <td>115.04</td>\n",
              "      <td>253.35</td>\n",
              "      <td>1240.97</td>\n",
              "    </tr>\n",
              "    <tr>\n",
              "      <th>24</th>\n",
              "      <td>Minnesota</td>\n",
              "      <td>5523409</td>\n",
              "      <td>663.84</td>\n",
              "      <td>348.04</td>\n",
              "      <td>132.43</td>\n",
              "      <td>183.37</td>\n",
              "      <td>1327.68</td>\n",
              "    </tr>\n",
              "    <tr>\n",
              "      <th>25</th>\n",
              "      <td>Mississippi</td>\n",
              "      <td>2988298</td>\n",
              "      <td>507.07</td>\n",
              "      <td>248.46</td>\n",
              "      <td>92.00</td>\n",
              "      <td>166.61</td>\n",
              "      <td>1014.14</td>\n",
              "    </tr>\n",
              "    <tr>\n",
              "      <th>26</th>\n",
              "      <td>Missouri</td>\n",
              "      <td>6087203</td>\n",
              "      <td>536.46</td>\n",
              "      <td>286.44</td>\n",
              "      <td>92.24</td>\n",
              "      <td>157.78</td>\n",
              "      <td>1072.92</td>\n",
              "    </tr>\n",
              "    <tr>\n",
              "      <th>27</th>\n",
              "      <td>Montana</td>\n",
              "      <td>1040863</td>\n",
              "      <td>729.41</td>\n",
              "      <td>278.90</td>\n",
              "      <td>203.06</td>\n",
              "      <td>247.45</td>\n",
              "      <td>1458.82</td>\n",
              "    </tr>\n",
              "    <tr>\n",
              "      <th>28</th>\n",
              "      <td>Nebraska</td>\n",
              "      <td>1905924</td>\n",
              "      <td>600.27</td>\n",
              "      <td>240.71</td>\n",
              "      <td>97.48</td>\n",
              "      <td>262.08</td>\n",
              "      <td>1200.54</td>\n",
              "    </tr>\n",
              "    <tr>\n",
              "      <th>29</th>\n",
              "      <td>Nevada</td>\n",
              "      <td>2919772</td>\n",
              "      <td>812.32</td>\n",
              "      <td>405.63</td>\n",
              "      <td>162.91</td>\n",
              "      <td>243.78</td>\n",
              "      <td>1624.64</td>\n",
              "    </tr>\n",
              "    <tr>\n",
              "      <th>30</th>\n",
              "      <td>New Hampshire</td>\n",
              "      <td>1342373</td>\n",
              "      <td>546.03</td>\n",
              "      <td>293.32</td>\n",
              "      <td>104.86</td>\n",
              "      <td>147.84</td>\n",
              "      <td>1092.05</td>\n",
              "    </tr>\n",
              "    <tr>\n",
              "      <th>31</th>\n",
              "      <td>New Jersey</td>\n",
              "      <td>8874516</td>\n",
              "      <td>791.11</td>\n",
              "      <td>388.21</td>\n",
              "      <td>172.68</td>\n",
              "      <td>230.22</td>\n",
              "      <td>1582.22</td>\n",
              "    </tr>\n",
              "    <tr>\n",
              "      <th>32</th>\n",
              "      <td>New Mexico</td>\n",
              "      <td>2092789</td>\n",
              "      <td>824.87</td>\n",
              "      <td>334.82</td>\n",
              "      <td>157.37</td>\n",
              "      <td>332.68</td>\n",
              "      <td>1649.74</td>\n",
              "    </tr>\n",
              "    <tr>\n",
              "      <th>33</th>\n",
              "      <td>New York</td>\n",
              "      <td>19641589</td>\n",
              "      <td>1048.95</td>\n",
              "      <td>505.16</td>\n",
              "      <td>211.65</td>\n",
              "      <td>332.14</td>\n",
              "      <td>2097.90</td>\n",
              "    </tr>\n",
              "    <tr>\n",
              "      <th>34</th>\n",
              "      <td>North Carolina</td>\n",
              "      <td>10156679</td>\n",
              "      <td>576.85</td>\n",
              "      <td>322.10</td>\n",
              "      <td>75.23</td>\n",
              "      <td>179.52</td>\n",
              "      <td>1153.70</td>\n",
              "    </tr>\n",
              "    <tr>\n",
              "      <th>35</th>\n",
              "      <td>North Dakota</td>\n",
              "      <td>754353</td>\n",
              "      <td>675.36</td>\n",
              "      <td>275.78</td>\n",
              "      <td>167.42</td>\n",
              "      <td>232.15</td>\n",
              "      <td>1350.71</td>\n",
              "    </tr>\n",
              "    <tr>\n",
              "      <th>36</th>\n",
              "      <td>Ohio</td>\n",
              "      <td>11635003</td>\n",
              "      <td>656.22</td>\n",
              "      <td>333.68</td>\n",
              "      <td>150.09</td>\n",
              "      <td>172.46</td>\n",
              "      <td>1312.45</td>\n",
              "    </tr>\n",
              "    <tr>\n",
              "      <th>37</th>\n",
              "      <td>Oklahoma</td>\n",
              "      <td>3926769</td>\n",
              "      <td>558.29</td>\n",
              "      <td>271.19</td>\n",
              "      <td>95.56</td>\n",
              "      <td>191.54</td>\n",
              "      <td>1116.58</td>\n",
              "    </tr>\n",
              "    <tr>\n",
              "      <th>38</th>\n",
              "      <td>Oregon</td>\n",
              "      <td>4091404</td>\n",
              "      <td>808.33</td>\n",
              "      <td>321.55</td>\n",
              "      <td>189.50</td>\n",
              "      <td>297.27</td>\n",
              "      <td>1616.65</td>\n",
              "    </tr>\n",
              "    <tr>\n",
              "      <th>39</th>\n",
              "      <td>Pennsylvania</td>\n",
              "      <td>12783538</td>\n",
              "      <td>714.15</td>\n",
              "      <td>290.79</td>\n",
              "      <td>148.86</td>\n",
              "      <td>274.49</td>\n",
              "      <td>1428.29</td>\n",
              "    </tr>\n",
              "    <tr>\n",
              "      <th>40</th>\n",
              "      <td>Rhode Island</td>\n",
              "      <td>1057063</td>\n",
              "      <td>760.94</td>\n",
              "      <td>412.11</td>\n",
              "      <td>138.70</td>\n",
              "      <td>210.13</td>\n",
              "      <td>1521.88</td>\n",
              "    </tr>\n",
              "    <tr>\n",
              "      <th>41</th>\n",
              "      <td>South Carolina</td>\n",
              "      <td>4958235</td>\n",
              "      <td>465.48</td>\n",
              "      <td>240.77</td>\n",
              "      <td>72.35</td>\n",
              "      <td>152.37</td>\n",
              "      <td>930.97</td>\n",
              "    </tr>\n",
              "    <tr>\n",
              "      <th>42</th>\n",
              "      <td>South Dakota</td>\n",
              "      <td>862890</td>\n",
              "      <td>547.21</td>\n",
              "      <td>233.25</td>\n",
              "      <td>105.77</td>\n",
              "      <td>208.19</td>\n",
              "      <td>1094.42</td>\n",
              "    </tr>\n",
              "    <tr>\n",
              "      <th>43</th>\n",
              "      <td>Tennessee</td>\n",
              "      <td>6645011</td>\n",
              "      <td>571.23</td>\n",
              "      <td>279.13</td>\n",
              "      <td>115.18</td>\n",
              "      <td>176.92</td>\n",
              "      <td>1142.46</td>\n",
              "    </tr>\n",
              "    <tr>\n",
              "      <th>44</th>\n",
              "      <td>Texas</td>\n",
              "      <td>27937492</td>\n",
              "      <td>592.19</td>\n",
              "      <td>272.58</td>\n",
              "      <td>107.66</td>\n",
              "      <td>211.95</td>\n",
              "      <td>1184.38</td>\n",
              "    </tr>\n",
              "    <tr>\n",
              "      <th>45</th>\n",
              "      <td>Utah</td>\n",
              "      <td>3042613</td>\n",
              "      <td>503.63</td>\n",
              "      <td>215.29</td>\n",
              "      <td>115.28</td>\n",
              "      <td>173.06</td>\n",
              "      <td>1007.26</td>\n",
              "    </tr>\n",
              "    <tr>\n",
              "      <th>46</th>\n",
              "      <td>Vermont</td>\n",
              "      <td>623644</td>\n",
              "      <td>650.75</td>\n",
              "      <td>301.79</td>\n",
              "      <td>129.11</td>\n",
              "      <td>219.84</td>\n",
              "      <td>1301.49</td>\n",
              "    </tr>\n",
              "    <tr>\n",
              "      <th>47</th>\n",
              "      <td>Virginia</td>\n",
              "      <td>8410946</td>\n",
              "      <td>705.52</td>\n",
              "      <td>277.95</td>\n",
              "      <td>123.12</td>\n",
              "      <td>304.45</td>\n",
              "      <td>1411.04</td>\n",
              "    </tr>\n",
              "    <tr>\n",
              "      <th>48</th>\n",
              "      <td>Washington</td>\n",
              "      <td>7294680</td>\n",
              "      <td>660.33</td>\n",
              "      <td>267.91</td>\n",
              "      <td>155.59</td>\n",
              "      <td>236.83</td>\n",
              "      <td>1320.66</td>\n",
              "    </tr>\n",
              "    <tr>\n",
              "      <th>49</th>\n",
              "      <td>West Virginia</td>\n",
              "      <td>1830929</td>\n",
              "      <td>555.79</td>\n",
              "      <td>211.49</td>\n",
              "      <td>151.51</td>\n",
              "      <td>192.79</td>\n",
              "      <td>1111.58</td>\n",
              "    </tr>\n",
              "    <tr>\n",
              "      <th>50</th>\n",
              "      <td>Wisconsin</td>\n",
              "      <td>5772958</td>\n",
              "      <td>708.58</td>\n",
              "      <td>324.53</td>\n",
              "      <td>114.83</td>\n",
              "      <td>269.22</td>\n",
              "      <td>1417.16</td>\n",
              "    </tr>\n",
              "    <tr>\n",
              "      <th>51</th>\n",
              "      <td>Wyoming</td>\n",
              "      <td>584290</td>\n",
              "      <td>997.13</td>\n",
              "      <td>413.82</td>\n",
              "      <td>216.09</td>\n",
              "      <td>367.22</td>\n",
              "      <td>1994.26</td>\n",
              "    </tr>\n",
              "  </tbody>\n",
              "</table>\n",
              "</div>"
            ],
            "text/plain": [
              "             State  Population 2016  ...  Corrections PC  Total_PC\n",
              "1          Alabama          4864745  ...          148.47    960.22\n",
              "2           Alaska           741504  ...          455.84   2595.31\n",
              "3          Arizona          6945452  ...          242.56   1419.54\n",
              "4         Arkansas          2990410  ...          199.21   1007.97\n",
              "5       California         39209127  ...          394.51   2127.78\n",
              "6         Colorado          5540921  ...          236.98   1422.36\n",
              "7      Connecticut          3578674  ...          191.18   1535.80\n",
              "8         Delaware           949216  ...          324.84   1821.21\n",
              "10         Florida         20629982  ...          205.94   1402.16\n",
              "11         Georgia         10304763  ...          186.28   1136.04\n",
              "12          Hawaii          1428105  ...          152.27   1359.78\n",
              "13           Idaho          1682930  ...          203.64   1187.89\n",
              "14        Illinois         12826895  ...          144.41   1343.68\n",
              "15         Indiana          6633344  ...          174.68    900.16\n",
              "16            Iowa          3131785  ...          141.86   1009.83\n",
              "17          Kansas          2911263  ...          177.11   1129.94\n",
              "18        Kentucky          4438229  ...          203.58   1011.48\n",
              "19       Louisiana          4678215  ...          243.34   1483.69\n",
              "20           Maine          1331370  ...          198.39   1008.81\n",
              "21        Maryland          6004692  ...          316.30   1825.68\n",
              "22   Massachusetts          6826022  ...          164.00   1379.82\n",
              "23        Michigan          9951890  ...          253.35   1240.97\n",
              "24       Minnesota          5523409  ...          183.37   1327.68\n",
              "25     Mississippi          2988298  ...          166.61   1014.14\n",
              "26        Missouri          6087203  ...          157.78   1072.92\n",
              "27         Montana          1040863  ...          247.45   1458.82\n",
              "28        Nebraska          1905924  ...          262.08   1200.54\n",
              "29          Nevada          2919772  ...          243.78   1624.64\n",
              "30   New Hampshire          1342373  ...          147.84   1092.05\n",
              "31      New Jersey          8874516  ...          230.22   1582.22\n",
              "32      New Mexico          2092789  ...          332.68   1649.74\n",
              "33        New York         19641589  ...          332.14   2097.90\n",
              "34  North Carolina         10156679  ...          179.52   1153.70\n",
              "35    North Dakota           754353  ...          232.15   1350.71\n",
              "36            Ohio         11635003  ...          172.46   1312.45\n",
              "37        Oklahoma          3926769  ...          191.54   1116.58\n",
              "38          Oregon          4091404  ...          297.27   1616.65\n",
              "39    Pennsylvania         12783538  ...          274.49   1428.29\n",
              "40    Rhode Island          1057063  ...          210.13   1521.88\n",
              "41  South Carolina          4958235  ...          152.37    930.97\n",
              "42    South Dakota           862890  ...          208.19   1094.42\n",
              "43       Tennessee          6645011  ...          176.92   1142.46\n",
              "44           Texas         27937492  ...          211.95   1184.38\n",
              "45            Utah          3042613  ...          173.06   1007.26\n",
              "46         Vermont           623644  ...          219.84   1301.49\n",
              "47        Virginia          8410946  ...          304.45   1411.04\n",
              "48      Washington          7294680  ...          236.83   1320.66\n",
              "49   West Virginia          1830929  ...          192.79   1111.58\n",
              "50       Wisconsin          5772958  ...          269.22   1417.16\n",
              "51         Wyoming           584290  ...          367.22   1994.26\n",
              "\n",
              "[50 rows x 7 columns]"
            ]
          },
          "metadata": {
            "tags": []
          },
          "execution_count": 16
        }
      ]
    },
    {
      "cell_type": "markdown",
      "metadata": {
        "id": "fP57iEhs8iuj"
      },
      "source": [
        "**Part 3: Exploratory Data Analysis**"
      ]
    },
    {
      "cell_type": "markdown",
      "metadata": {
        "id": "-FsgnGG_1Fh8"
      },
      "source": [
        "**Provide summary statistics for each attribute; provide appropriate graphical analysis for each attribute using both Matplotlib and Seaborn. For example, if you believe it is appropriate to generate a histogram for a particular variable as part of your EDA, create it first using Matplotlib and then once again using Seaborn. Include a narrative describing your EDA findings. Be sure include any Python code used as part of your EDA work.**"
      ]
    },
    {
      "cell_type": "markdown",
      "metadata": {
        "id": "Au5I2rN_K1cd"
      },
      "source": [
        "Print the means of the p_capita dataframe and label them. We are not interested in the population mean so we will be ranging from 1 to 5 instead of 0 to 5."
      ]
    },
    {
      "cell_type": "code",
      "metadata": {
        "id": "olkYz9nfo3Kw",
        "outputId": "2409009a-767e-4f01-99b2-aa2b068c9760",
        "colab": {
          "base_uri": "https://localhost:8080/"
        }
      },
      "source": [
        "#Print the mean of each of the per capita columns and label them.\n",
        "print('Total Justice- Mean =',p_capita.mean()[1])\n",
        "print('Police Protection- Mean =',p_capita.mean()[2])\n",
        "print('Judicial and legal- Mean =',p_capita.mean()[3])\n",
        "print('Corrections- Mean =',p_capita.mean()[4])\n",
        "print('Total_PC- Mean =',p_capita.mean()[5])"
      ],
      "execution_count": 17,
      "outputs": [
        {
          "output_type": "stream",
          "text": [
            "Total Justice- Mean = 678.4672\n",
            "Police Protection- Mean = 310.9996\n",
            "Judicial and legal- Mean = 140.8056\n",
            "Corrections- Mean = 226.66180000000003\n",
            "Total_PC- Mean = 1356.9342\n"
          ],
          "name": "stdout"
        }
      ]
    },
    {
      "cell_type": "markdown",
      "metadata": {
        "id": "gYu3a1VdLNY-"
      },
      "source": [
        "Create a new dataframe that drops the population and state columns so that we can work just with the columns that represent per capita data. This simply makes plotting simpler and more intuitive."
      ]
    },
    {
      "cell_type": "code",
      "metadata": {
        "id": "lvfYbEnEHJVs"
      },
      "source": [
        "#Creat a new dataframe that drops poulation and state columns so that we can work just with the columns that represent per capita data.\n",
        "Just_pc=p_capita.drop(['Population 2016','State'],axis=1)"
      ],
      "execution_count": 18,
      "outputs": []
    },
    {
      "cell_type": "markdown",
      "metadata": {
        "id": "JbiuoJKvLooY"
      },
      "source": [
        "Show the mean of the columns over the maximum values of the columns to get a good overview of the data."
      ]
    },
    {
      "cell_type": "code",
      "metadata": {
        "id": "N1ltw8zRz2i8",
        "outputId": "8aaa4935-926d-40e0-fca3-fc61ad0b70e9",
        "colab": {
          "base_uri": "https://localhost:8080/",
          "height": 373
        }
      },
      "source": [
        "#Create a bar plot of the Mean over the Max Value\n",
        "import matplotlib.pyplot as plt\n",
        "import seaborn as sns\n",
        "Just_pc.mean().plot(kind = \"bar\")\n",
        "Just_pc.max().plot(kind=\"bar\",alpha=0.5)\n",
        "\n",
        "plt.show()"
      ],
      "execution_count": 19,
      "outputs": [
        {
          "output_type": "display_data",
          "data": {
            "image/png": "[encoded data removed]",
            "text/plain": [
              "<Figure size 432x288 with 1 Axes>"
            ]
          },
          "metadata": {
            "tags": [],
            "needs_background": "light"
          }
        }
      ]
    },
    {
      "cell_type": "code",
      "metadata": {
        "id": "J9CPd1xHhG4T",
        "outputId": "c2dc8f34-1135-4614-ddba-a8451cb95515",
        "colab": {
          "base_uri": "https://localhost:8080/",
          "height": 388
        }
      },
      "source": [
        "#Create a bar plot of the Mean over the Max Value\n",
        "import matplotlib.pyplot as plt\n",
        "import seaborn as sns\n",
        "sns.set()\n",
        "\n",
        "fig1 = Just_pc.mean().plot(kind='bar')\n",
        "fig2 = Just_pc.max().plot(kind='bar',alpha=0.5)\n",
        "plt.margins(0.02)\n",
        "fig1.set_xticklabels(Just_pc.columns, rotation = 90, ha=\"right\")\n",
        "plt.show()\n"
      ],
      "execution_count": 36,
      "outputs": [
        {
          "output_type": "display_data",
          "data": {
            "image/png": "[encoded data removed]",
            "text/plain": [
              "<Figure size 432x288 with 1 Axes>"
            ]
          },
          "metadata": {
            "tags": []
          }
        }
      ]
    },
    {
      "cell_type": "markdown",
      "metadata": {
        "id": "O7F8vxs7MDTs"
      },
      "source": [
        "Print the median of the p_capita dataframe and label them. We are not interested in The population mean so we will be ranging from 1 to 5 instead of 0 to 5."
      ]
    },
    {
      "cell_type": "code",
      "metadata": {
        "id": "ZN3newCYuiDJ",
        "outputId": "9d125413-380c-4318-d252-6e9f93caebe5",
        "colab": {
          "base_uri": "https://localhost:8080/"
        }
      },
      "source": [
        "#Print the median of each of the per capita columns and label them.\n",
        "print('Total Justice- Median =',p_capita.median()[1])\n",
        "print('Police Protection- Median =',p_capita.median()[2])\n",
        "print('Judicial and legal- Median =',p_capita.median()[3])\n",
        "print('Corrections- Median =',p_capita.median()[4])\n",
        "print('Total_PC- Median =',p_capita.median()[5])"
      ],
      "execution_count": 25,
      "outputs": [
        {
          "output_type": "stream",
          "text": [
            "Total Justice- Median = 662.085\n",
            "Police Protection- Median = 292.055\n",
            "Judicial and legal- Median = 130.77\n",
            "Corrections- Median = 207.065\n",
            "Total_PC- Median = 1324.17\n"
          ],
          "name": "stdout"
        }
      ]
    },
    {
      "cell_type": "markdown",
      "metadata": {
        "id": "qOhGtfPoM45g"
      },
      "source": [
        "Show the median of the columns over the maximum values of the columns to get a good overview of the data."
      ]
    },
    {
      "cell_type": "code",
      "metadata": {
        "id": "TVukEKxn169t",
        "outputId": "1bf4234f-2449-49d7-e2dd-15127926d3ef",
        "colab": {
          "base_uri": "https://localhost:8080/",
          "height": 373
        }
      },
      "source": [
        "#Create a bar plot of the median over the max value\n",
        "\n",
        "Just_pc.median().plot(kind = \"bar\")\n",
        "Just_pc.max().plot(kind=\"bar\",alpha=0.5)\n",
        "\n",
        "plt.show()"
      ],
      "execution_count": 20,
      "outputs": [
        {
          "output_type": "display_data",
          "data": {
            "image/png": "[encoded data removed]",
            "text/plain": [
              "<Figure size 432x288 with 1 Axes>"
            ]
          },
          "metadata": {
            "tags": [],
            "needs_background": "light"
          }
        }
      ]
    },
    {
      "cell_type": "code",
      "metadata": {
        "id": "6SF0HRlJlDu4",
        "outputId": "c669af32-68d3-4b46-c5cf-d5644d100ff8",
        "colab": {
          "base_uri": "https://localhost:8080/",
          "height": 388
        }
      },
      "source": [
        "#Creat tyhe same plot using Seaborn\n",
        "sns.set()\n",
        "\n",
        "fig1 = Just_pc.median().plot(kind='bar')\n",
        "fig2 = Just_pc.max().plot(kind='bar',alpha=0.5)\n",
        "plt.margins(0.02)\n",
        "fig1.set_xticklabels(Just_pc.columns, rotation = 90, ha=\"right\")\n",
        "plt.show()"
      ],
      "execution_count": 26,
      "outputs": [
        {
          "output_type": "display_data",
          "data": {
            "image/png": "[encoded data removed]",
            "text/plain": [
              "<Figure size 432x288 with 1 Axes>"
            ]
          },
          "metadata": {
            "tags": []
          }
        }
      ]
    },
    {
      "cell_type": "markdown",
      "metadata": {
        "id": "_wGZB1I9MOZv"
      },
      "source": [
        "Print the standard deviation of the p_capita dataframe and label them. "
      ]
    },
    {
      "cell_type": "code",
      "metadata": {
        "id": "lsQFtZ-wvCrH",
        "outputId": "c71e0449-fd65-446b-fb02-1df32ff2a3af",
        "colab": {
          "base_uri": "https://localhost:8080/"
        }
      },
      "source": [
        "#Print the Standard Deviation of each of the per capita columns and label them.\n",
        "print('Total Justice- Standard Deviation =',p_capita['Total justice system PC '].std())\n",
        "print('Police Protection- Standard Deviation =',p_capita['Police Protection PC'].std())\n",
        "print('Judicial and legal- Standard Deviation =',p_capita['Judicial and legal PC'].std())\n",
        "print('Corrections- Standard Deviation =',p_capita['Corrections PC'].std())\n",
        "print('Total_PC- Standard Deviation =',p_capita['Total_PC'].std())"
      ],
      "execution_count": 27,
      "outputs": [
        {
          "output_type": "stream",
          "text": [
            "Total Justice- Standard Deviation = 172.03756839405392\n",
            "Police Protection- Standard Deviation = 76.65696025110034\n",
            "Judicial and legal- Standard Deviation = 51.39308228522113\n",
            "Corrections- Standard Deviation = 69.31871189760278\n",
            "Total_PC- Standard Deviation = 344.0756158414802\n"
          ],
          "name": "stdout"
        }
      ]
    },
    {
      "cell_type": "markdown",
      "metadata": {
        "id": "LNBQVXcBMZYk"
      },
      "source": [
        "Print the range of the Just_PC(p_capita without population) dataframe and label them. We are not interested in The population mean so we Just_PC instead of p_capita. Then Show it.\n",
        "\n",
        "Find the range of each column by subtracting the minimum value from the Maximum value."
      ]
    },
    {
      "cell_type": "code",
      "metadata": {
        "id": "ZaBe7JNh8rlJ"
      },
      "source": [
        "# Create 'range' that has the range of the columns by subtracting the minimum value from the maximum value\n",
        "range=Just_pc.max()-Just_pc.min()"
      ],
      "execution_count": 22,
      "outputs": []
    },
    {
      "cell_type": "code",
      "metadata": {
        "id": "eSaqyuhJ8tXZ",
        "outputId": "70bed7af-c288-4705-8f8f-b05f27eee3b7",
        "colab": {
          "base_uri": "https://localhost:8080/"
        }
      },
      "source": [
        "#show Range\n",
        "range"
      ],
      "execution_count": 23,
      "outputs": [
        {
          "output_type": "execute_result",
          "data": {
            "text/plain": [
              "Total justice system PC      847.57\n",
              "Police Protection PC         344.84\n",
              "Judicial and legal PC        270.20\n",
              "Corrections PC               313.98\n",
              "Total_PC                    1695.15\n",
              "dtype: float64"
            ]
          },
          "metadata": {
            "tags": []
          },
          "execution_count": 23
        }
      ]
    },
    {
      "cell_type": "markdown",
      "metadata": {
        "id": "_J8nP9JoND4i"
      },
      "source": [
        "Show the Standard Deviation of the columns over the range of the columns to get a good overview of the data."
      ]
    },
    {
      "cell_type": "code",
      "metadata": {
        "id": "kibXdXc4yTPm",
        "outputId": "ac590e36-2a8c-4dbe-ee26-a1ea8712de56",
        "colab": {
          "base_uri": "https://localhost:8080/",
          "height": 373
        }
      },
      "source": [
        "#Create a bar plot of the Standard deviation over the range\n",
        "Just_pc.std().plot(kind = \"bar\")\n",
        "range.plot(kind=\"bar\",alpha=0.5)\n",
        "\n",
        "\n",
        "plt.show()"
      ],
      "execution_count": 24,
      "outputs": [
        {
          "output_type": "display_data",
          "data": {
            "image/png": "[encoded data removed]",
            "text/plain": [
              "<Figure size 432x288 with 1 Axes>"
            ]
          },
          "metadata": {
            "tags": [],
            "needs_background": "light"
          }
        }
      ]
    },
    {
      "cell_type": "code",
      "metadata": {
        "id": "HQZiAUUImhqQ",
        "outputId": "ac6dc4a2-ff1d-4437-c2f7-d434150e9bf0",
        "colab": {
          "base_uri": "https://localhost:8080/",
          "height": 388
        }
      },
      "source": [
        "#Creat tyhe same plot using Seaborn\n",
        "sns.set()\n",
        "\n",
        "fig1 = Just_pc.std().plot(kind='bar')\n",
        "fig2 = range.plot(kind='bar',alpha=0.5)\n",
        "plt.margins(0.02)\n",
        "fig1.set_xticklabels(Just_pc.columns, rotation = 90, ha=\"right\")\n",
        "plt.show()"
      ],
      "execution_count": 29,
      "outputs": [
        {
          "output_type": "display_data",
          "data": {
            "image/png": "[encoded data removed]",
            "text/plain": [
              "<Figure size 432x288 with 1 Axes>"
            ]
          },
          "metadata": {
            "tags": []
          }
        }
      ]
    },
    {
      "cell_type": "markdown",
      "metadata": {
        "id": "VZYix_Qy2Uq2"
      },
      "source": [
        "**Part 4: Inference**"
      ]
    },
    {
      "cell_type": "markdown",
      "metadata": {
        "id": "824xnpzH2ZyT"
      },
      "source": [
        "**Perform whatever analysis is necessary to answer your research question. Your analysis should include at least one graphic, and for each graphic you create you must do so using both Matplotlib and Seaborn (as described in Part 3 above). Include a narrative explaining your research approach and findings and be sure include any Python code used as part of your work**"
      ]
    },
    {
      "cell_type": "markdown",
      "metadata": {
        "id": "YqAekviOPBz_"
      },
      "source": [
        "Inference for Q1."
      ]
    },
    {
      "cell_type": "markdown",
      "metadata": {
        "id": "koRVjI2rNaI_"
      },
      "source": [
        "Create a new dataframe without Population, state, or Total_PC then show it. "
      ]
    },
    {
      "cell_type": "code",
      "metadata": {
        "id": "S-JkSIh9OP8k"
      },
      "source": [
        "#Create a new dataframe that drops poulation, state, and total_pc\n",
        "pc_minus_T=p_capita.drop(['Population 2016','State','Total_PC'],axis=1)"
      ],
      "execution_count": 30,
      "outputs": []
    },
    {
      "cell_type": "code",
      "metadata": {
        "id": "bS3tWYGxOgDv",
        "outputId": "e08f5465-0a93-4102-a48f-5c493a17fe44",
        "colab": {
          "base_uri": "https://localhost:8080/",
          "height": 1000
        }
      },
      "source": [
        "#show new data frame\n",
        "pc_minus_T"
      ],
      "execution_count": 31,
      "outputs": [
        {
          "output_type": "execute_result",
          "data": {
            "text/html": [
              "<div>\n",
              "<style scoped>\n",
              "    .dataframe tbody tr th:only-of-type {\n",
              "        vertical-align: middle;\n",
              "    }\n",
              "\n",
              "    .dataframe tbody tr th {\n",
              "        vertical-align: top;\n",
              "    }\n",
              "\n",
              "    .dataframe thead th {\n",
              "        text-align: right;\n",
              "    }\n",
              "</style>\n",
              "<table border=\"1\" class=\"dataframe\">\n",
              "  <thead>\n",
              "    <tr style=\"text-align: right;\">\n",
              "      <th></th>\n",
              "      <th>Total justice system PC</th>\n",
              "      <th>Police Protection PC</th>\n",
              "      <th>Judicial and legal PC</th>\n",
              "      <th>Corrections PC</th>\n",
              "    </tr>\n",
              "  </thead>\n",
              "  <tbody>\n",
              "    <tr>\n",
              "      <th>1</th>\n",
              "      <td>480.11</td>\n",
              "      <td>257.21</td>\n",
              "      <td>74.43</td>\n",
              "      <td>148.47</td>\n",
              "    </tr>\n",
              "    <tr>\n",
              "      <th>2</th>\n",
              "      <td>1297.65</td>\n",
              "      <td>499.27</td>\n",
              "      <td>342.55</td>\n",
              "      <td>455.84</td>\n",
              "    </tr>\n",
              "    <tr>\n",
              "      <th>3</th>\n",
              "      <td>709.77</td>\n",
              "      <td>325.62</td>\n",
              "      <td>141.59</td>\n",
              "      <td>242.56</td>\n",
              "    </tr>\n",
              "    <tr>\n",
              "      <th>4</th>\n",
              "      <td>503.99</td>\n",
              "      <td>231.09</td>\n",
              "      <td>73.68</td>\n",
              "      <td>199.21</td>\n",
              "    </tr>\n",
              "    <tr>\n",
              "      <th>5</th>\n",
              "      <td>1063.89</td>\n",
              "      <td>448.11</td>\n",
              "      <td>221.27</td>\n",
              "      <td>394.51</td>\n",
              "    </tr>\n",
              "    <tr>\n",
              "      <th>6</th>\n",
              "      <td>711.18</td>\n",
              "      <td>338.09</td>\n",
              "      <td>136.11</td>\n",
              "      <td>236.98</td>\n",
              "    </tr>\n",
              "    <tr>\n",
              "      <th>7</th>\n",
              "      <td>767.90</td>\n",
              "      <td>345.66</td>\n",
              "      <td>231.06</td>\n",
              "      <td>191.18</td>\n",
              "    </tr>\n",
              "    <tr>\n",
              "      <th>8</th>\n",
              "      <td>910.60</td>\n",
              "      <td>366.65</td>\n",
              "      <td>219.12</td>\n",
              "      <td>324.84</td>\n",
              "    </tr>\n",
              "    <tr>\n",
              "      <th>10</th>\n",
              "      <td>701.08</td>\n",
              "      <td>380.44</td>\n",
              "      <td>114.70</td>\n",
              "      <td>205.94</td>\n",
              "    </tr>\n",
              "    <tr>\n",
              "      <th>11</th>\n",
              "      <td>568.02</td>\n",
              "      <td>263.81</td>\n",
              "      <td>117.93</td>\n",
              "      <td>186.28</td>\n",
              "    </tr>\n",
              "    <tr>\n",
              "      <th>12</th>\n",
              "      <td>679.89</td>\n",
              "      <td>321.41</td>\n",
              "      <td>206.21</td>\n",
              "      <td>152.27</td>\n",
              "    </tr>\n",
              "    <tr>\n",
              "      <th>13</th>\n",
              "      <td>593.95</td>\n",
              "      <td>271.63</td>\n",
              "      <td>118.67</td>\n",
              "      <td>203.64</td>\n",
              "    </tr>\n",
              "    <tr>\n",
              "      <th>14</th>\n",
              "      <td>671.84</td>\n",
              "      <td>406.65</td>\n",
              "      <td>120.78</td>\n",
              "      <td>144.41</td>\n",
              "    </tr>\n",
              "    <tr>\n",
              "      <th>15</th>\n",
              "      <td>450.08</td>\n",
              "      <td>189.20</td>\n",
              "      <td>86.20</td>\n",
              "      <td>174.68</td>\n",
              "    </tr>\n",
              "    <tr>\n",
              "      <th>16</th>\n",
              "      <td>504.91</td>\n",
              "      <td>248.60</td>\n",
              "      <td>114.46</td>\n",
              "      <td>141.86</td>\n",
              "    </tr>\n",
              "    <tr>\n",
              "      <th>17</th>\n",
              "      <td>564.97</td>\n",
              "      <td>274.42</td>\n",
              "      <td>113.44</td>\n",
              "      <td>177.11</td>\n",
              "    </tr>\n",
              "    <tr>\n",
              "      <th>18</th>\n",
              "      <td>505.74</td>\n",
              "      <td>160.32</td>\n",
              "      <td>141.84</td>\n",
              "      <td>203.58</td>\n",
              "    </tr>\n",
              "    <tr>\n",
              "      <th>19</th>\n",
              "      <td>741.85</td>\n",
              "      <td>345.07</td>\n",
              "      <td>153.43</td>\n",
              "      <td>243.34</td>\n",
              "    </tr>\n",
              "    <tr>\n",
              "      <th>20</th>\n",
              "      <td>504.40</td>\n",
              "      <td>221.53</td>\n",
              "      <td>84.49</td>\n",
              "      <td>198.39</td>\n",
              "    </tr>\n",
              "    <tr>\n",
              "      <th>21</th>\n",
              "      <td>912.84</td>\n",
              "      <td>441.17</td>\n",
              "      <td>155.37</td>\n",
              "      <td>316.30</td>\n",
              "    </tr>\n",
              "    <tr>\n",
              "      <th>22</th>\n",
              "      <td>689.91</td>\n",
              "      <td>366.53</td>\n",
              "      <td>159.38</td>\n",
              "      <td>164.00</td>\n",
              "    </tr>\n",
              "    <tr>\n",
              "      <th>23</th>\n",
              "      <td>620.48</td>\n",
              "      <td>252.10</td>\n",
              "      <td>115.04</td>\n",
              "      <td>253.35</td>\n",
              "    </tr>\n",
              "    <tr>\n",
              "      <th>24</th>\n",
              "      <td>663.84</td>\n",
              "      <td>348.04</td>\n",
              "      <td>132.43</td>\n",
              "      <td>183.37</td>\n",
              "    </tr>\n",
              "    <tr>\n",
              "      <th>25</th>\n",
              "      <td>507.07</td>\n",
              "      <td>248.46</td>\n",
              "      <td>92.00</td>\n",
              "      <td>166.61</td>\n",
              "    </tr>\n",
              "    <tr>\n",
              "      <th>26</th>\n",
              "      <td>536.46</td>\n",
              "      <td>286.44</td>\n",
              "      <td>92.24</td>\n",
              "      <td>157.78</td>\n",
              "    </tr>\n",
              "    <tr>\n",
              "      <th>27</th>\n",
              "      <td>729.41</td>\n",
              "      <td>278.90</td>\n",
              "      <td>203.06</td>\n",
              "      <td>247.45</td>\n",
              "    </tr>\n",
              "    <tr>\n",
              "      <th>28</th>\n",
              "      <td>600.27</td>\n",
              "      <td>240.71</td>\n",
              "      <td>97.48</td>\n",
              "      <td>262.08</td>\n",
              "    </tr>\n",
              "    <tr>\n",
              "      <th>29</th>\n",
              "      <td>812.32</td>\n",
              "      <td>405.63</td>\n",
              "      <td>162.91</td>\n",
              "      <td>243.78</td>\n",
              "    </tr>\n",
              "    <tr>\n",
              "      <th>30</th>\n",
              "      <td>546.03</td>\n",
              "      <td>293.32</td>\n",
              "      <td>104.86</td>\n",
              "      <td>147.84</td>\n",
              "    </tr>\n",
              "    <tr>\n",
              "      <th>31</th>\n",
              "      <td>791.11</td>\n",
              "      <td>388.21</td>\n",
              "      <td>172.68</td>\n",
              "      <td>230.22</td>\n",
              "    </tr>\n",
              "    <tr>\n",
              "      <th>32</th>\n",
              "      <td>824.87</td>\n",
              "      <td>334.82</td>\n",
              "      <td>157.37</td>\n",
              "      <td>332.68</td>\n",
              "    </tr>\n",
              "    <tr>\n",
              "      <th>33</th>\n",
              "      <td>1048.95</td>\n",
              "      <td>505.16</td>\n",
              "      <td>211.65</td>\n",
              "      <td>332.14</td>\n",
              "    </tr>\n",
              "    <tr>\n",
              "      <th>34</th>\n",
              "      <td>576.85</td>\n",
              "      <td>322.10</td>\n",
              "      <td>75.23</td>\n",
              "      <td>179.52</td>\n",
              "    </tr>\n",
              "    <tr>\n",
              "      <th>35</th>\n",
              "      <td>675.36</td>\n",
              "      <td>275.78</td>\n",
              "      <td>167.42</td>\n",
              "      <td>232.15</td>\n",
              "    </tr>\n",
              "    <tr>\n",
              "      <th>36</th>\n",
              "      <td>656.22</td>\n",
              "      <td>333.68</td>\n",
              "      <td>150.09</td>\n",
              "      <td>172.46</td>\n",
              "    </tr>\n",
              "    <tr>\n",
              "      <th>37</th>\n",
              "      <td>558.29</td>\n",
              "      <td>271.19</td>\n",
              "      <td>95.56</td>\n",
              "      <td>191.54</td>\n",
              "    </tr>\n",
              "    <tr>\n",
              "      <th>38</th>\n",
              "      <td>808.33</td>\n",
              "      <td>321.55</td>\n",
              "      <td>189.50</td>\n",
              "      <td>297.27</td>\n",
              "    </tr>\n",
              "    <tr>\n",
              "      <th>39</th>\n",
              "      <td>714.15</td>\n",
              "      <td>290.79</td>\n",
              "      <td>148.86</td>\n",
              "      <td>274.49</td>\n",
              "    </tr>\n",
              "    <tr>\n",
              "      <th>40</th>\n",
              "      <td>760.94</td>\n",
              "      <td>412.11</td>\n",
              "      <td>138.70</td>\n",
              "      <td>210.13</td>\n",
              "    </tr>\n",
              "    <tr>\n",
              "      <th>41</th>\n",
              "      <td>465.48</td>\n",
              "      <td>240.77</td>\n",
              "      <td>72.35</td>\n",
              "      <td>152.37</td>\n",
              "    </tr>\n",
              "    <tr>\n",
              "      <th>42</th>\n",
              "      <td>547.21</td>\n",
              "      <td>233.25</td>\n",
              "      <td>105.77</td>\n",
              "      <td>208.19</td>\n",
              "    </tr>\n",
              "    <tr>\n",
              "      <th>43</th>\n",
              "      <td>571.23</td>\n",
              "      <td>279.13</td>\n",
              "      <td>115.18</td>\n",
              "      <td>176.92</td>\n",
              "    </tr>\n",
              "    <tr>\n",
              "      <th>44</th>\n",
              "      <td>592.19</td>\n",
              "      <td>272.58</td>\n",
              "      <td>107.66</td>\n",
              "      <td>211.95</td>\n",
              "    </tr>\n",
              "    <tr>\n",
              "      <th>45</th>\n",
              "      <td>503.63</td>\n",
              "      <td>215.29</td>\n",
              "      <td>115.28</td>\n",
              "      <td>173.06</td>\n",
              "    </tr>\n",
              "    <tr>\n",
              "      <th>46</th>\n",
              "      <td>650.75</td>\n",
              "      <td>301.79</td>\n",
              "      <td>129.11</td>\n",
              "      <td>219.84</td>\n",
              "    </tr>\n",
              "    <tr>\n",
              "      <th>47</th>\n",
              "      <td>705.52</td>\n",
              "      <td>277.95</td>\n",
              "      <td>123.12</td>\n",
              "      <td>304.45</td>\n",
              "    </tr>\n",
              "    <tr>\n",
              "      <th>48</th>\n",
              "      <td>660.33</td>\n",
              "      <td>267.91</td>\n",
              "      <td>155.59</td>\n",
              "      <td>236.83</td>\n",
              "    </tr>\n",
              "    <tr>\n",
              "      <th>49</th>\n",
              "      <td>555.79</td>\n",
              "      <td>211.49</td>\n",
              "      <td>151.51</td>\n",
              "      <td>192.79</td>\n",
              "    </tr>\n",
              "    <tr>\n",
              "      <th>50</th>\n",
              "      <td>708.58</td>\n",
              "      <td>324.53</td>\n",
              "      <td>114.83</td>\n",
              "      <td>269.22</td>\n",
              "    </tr>\n",
              "    <tr>\n",
              "      <th>51</th>\n",
              "      <td>997.13</td>\n",
              "      <td>413.82</td>\n",
              "      <td>216.09</td>\n",
              "      <td>367.22</td>\n",
              "    </tr>\n",
              "  </tbody>\n",
              "</table>\n",
              "</div>"
            ],
            "text/plain": [
              "    Total justice system PC   ...  Corrections PC\n",
              "1                     480.11  ...          148.47\n",
              "2                    1297.65  ...          455.84\n",
              "3                     709.77  ...          242.56\n",
              "4                     503.99  ...          199.21\n",
              "5                    1063.89  ...          394.51\n",
              "6                     711.18  ...          236.98\n",
              "7                     767.90  ...          191.18\n",
              "8                     910.60  ...          324.84\n",
              "10                    701.08  ...          205.94\n",
              "11                    568.02  ...          186.28\n",
              "12                    679.89  ...          152.27\n",
              "13                    593.95  ...          203.64\n",
              "14                    671.84  ...          144.41\n",
              "15                    450.08  ...          174.68\n",
              "16                    504.91  ...          141.86\n",
              "17                    564.97  ...          177.11\n",
              "18                    505.74  ...          203.58\n",
              "19                    741.85  ...          243.34\n",
              "20                    504.40  ...          198.39\n",
              "21                    912.84  ...          316.30\n",
              "22                    689.91  ...          164.00\n",
              "23                    620.48  ...          253.35\n",
              "24                    663.84  ...          183.37\n",
              "25                    507.07  ...          166.61\n",
              "26                    536.46  ...          157.78\n",
              "27                    729.41  ...          247.45\n",
              "28                    600.27  ...          262.08\n",
              "29                    812.32  ...          243.78\n",
              "30                    546.03  ...          147.84\n",
              "31                    791.11  ...          230.22\n",
              "32                    824.87  ...          332.68\n",
              "33                   1048.95  ...          332.14\n",
              "34                    576.85  ...          179.52\n",
              "35                    675.36  ...          232.15\n",
              "36                    656.22  ...          172.46\n",
              "37                    558.29  ...          191.54\n",
              "38                    808.33  ...          297.27\n",
              "39                    714.15  ...          274.49\n",
              "40                    760.94  ...          210.13\n",
              "41                    465.48  ...          152.37\n",
              "42                    547.21  ...          208.19\n",
              "43                    571.23  ...          176.92\n",
              "44                    592.19  ...          211.95\n",
              "45                    503.63  ...          173.06\n",
              "46                    650.75  ...          219.84\n",
              "47                    705.52  ...          304.45\n",
              "48                    660.33  ...          236.83\n",
              "49                    555.79  ...          192.79\n",
              "50                    708.58  ...          269.22\n",
              "51                    997.13  ...          367.22\n",
              "\n",
              "[50 rows x 4 columns]"
            ]
          },
          "metadata": {
            "tags": []
          },
          "execution_count": 31
        }
      ]
    },
    {
      "cell_type": "markdown",
      "metadata": {
        "id": "osfVBOn9NnxJ"
      },
      "source": [
        "Create the Interquartile range and show It."
      ]
    },
    {
      "cell_type": "code",
      "metadata": {
        "id": "sYAwA8OzXQmt"
      },
      "source": [
        "#Create the interquartile range\n",
        "Q1 = Just_pc.quantile(0.25)\n",
        "Q3 = Just_pc.quantile(0.75)\n",
        "IQR = Q3 - Q1"
      ],
      "execution_count": 32,
      "outputs": []
    },
    {
      "cell_type": "code",
      "metadata": {
        "id": "fywTCtwcDTIJ",
        "outputId": "4634e50d-4527-4cdd-dfbf-b1cf53afc9a7",
        "colab": {
          "base_uri": "https://localhost:8080/"
        }
      },
      "source": [
        "#View the IQR\n",
        "IQR"
      ],
      "execution_count": 33,
      "outputs": [
        {
          "output_type": "execute_result",
          "data": {
            "text/plain": [
              "Total justice system PC     182.3250\n",
              "Police Protection PC         88.5850\n",
              "Judicial and legal PC        49.7725\n",
              "Corrections PC               74.9075\n",
              "Total_PC                    364.6425\n",
              "dtype: float64"
            ]
          },
          "metadata": {
            "tags": []
          },
          "execution_count": 33
        }
      ]
    },
    {
      "cell_type": "markdown",
      "metadata": {
        "id": "OrZEDXuTONes"
      },
      "source": [
        "Print the IQR for each of the Columns in the dataframe and label them."
      ]
    },
    {
      "cell_type": "code",
      "metadata": {
        "id": "etj3HYkYECvN",
        "outputId": "44de4a37-db5f-46ac-f061-38c5c052fd5b",
        "colab": {
          "base_uri": "https://localhost:8080/"
        }
      },
      "source": [
        "#Print IQR by column\n",
        "print('Total justice system PC- IQR =',IQR[0])\n",
        "print('Police Protection PC- IQR =',IQR[1])\n",
        "print('Judicial and legal PC- IQR =',IQR[2])\n",
        "print('Corrections PC- IQR =',IQR[3])\n",
        "print('Total_PC- IQR =',IQR[4])"
      ],
      "execution_count": 34,
      "outputs": [
        {
          "output_type": "stream",
          "text": [
            "Total justice system PC- IQR = 182.32500000000005\n",
            "Police Protection PC- IQR = 88.5850000000001\n",
            "Judicial and legal PC- IQR = 49.772499999999994\n",
            "Corrections PC- IQR = 74.9075\n",
            "Total_PC- IQR = 364.6424999999999\n"
          ],
          "name": "stdout"
        }
      ]
    },
    {
      "cell_type": "markdown",
      "metadata": {
        "id": "7mb1DOdXOXDO"
      },
      "source": [
        "Get the total number of outliers in each column of the data frame by using the standard formula Q1-1.5* IQR and Q2 + 1.5* IQR."
      ]
    },
    {
      "cell_type": "code",
      "metadata": {
        "id": "4zdJHB4NFik_",
        "outputId": "6a392cc4-3789-4366-abb5-81da7a8e9576",
        "colab": {
          "base_uri": "https://localhost:8080/"
        }
      },
      "source": [
        "#Get the total number of outliers by column\n",
        "((Just_pc < (Q1 - 1.5 * IQR)) | (Just_pc > (Q3 + 1.5 * IQR))).sum()"
      ],
      "execution_count": 35,
      "outputs": [
        {
          "output_type": "execute_result",
          "data": {
            "text/plain": [
              "Total justice system PC     3\n",
              "Police Protection PC        2\n",
              "Judicial and legal PC       1\n",
              "Corrections PC              3\n",
              "Total_PC                    3\n",
              "dtype: int64"
            ]
          },
          "metadata": {
            "tags": []
          },
          "execution_count": 35
        }
      ]
    },
    {
      "cell_type": "markdown",
      "metadata": {
        "id": "AbrSJ-HPOrt0"
      },
      "source": [
        "Show The data above as represented in seaborn and Matplotlib Box Plots for each of the five Per Capita Columns."
      ]
    },
    {
      "cell_type": "code",
      "metadata": {
        "id": "XF9RFuXKLLBV",
        "outputId": "6754a1b6-de80-4172-fd65-c7d30bfae45a",
        "colab": {
          "base_uri": "https://localhost:8080/",
          "height": 357
        }
      },
      "source": [
        "#import matplotlib.pyplot as plt\n",
        "import matplotlib.pyplot as plt\n",
        "#import seaborn under its alias sns\n",
        "import seaborn as sns\n",
        "#Generate a box plot of the per capita coulmns\n",
        "sns.boxplot(data=Just_pc)\n",
        "#rotate x Labaels\n",
        "plt.xticks(rotation=45)\n",
        "# show plot \n",
        "plt.show() \n",
        "\n"
      ],
      "execution_count": 36,
      "outputs": [
        {
          "output_type": "display_data",
          "data": {
            "image/png": "[encoded data removed]",
            "text/plain": [
              "<Figure size 432x288 with 1 Axes>"
            ]
          },
          "metadata": {
            "tags": []
          }
        }
      ]
    },
    {
      "cell_type": "code",
      "metadata": {
        "id": "YUfdNzpHPpIy",
        "outputId": "42168eed-89f0-43c5-8b89-ab3b8a0d64ab",
        "colab": {
          "base_uri": "https://localhost:8080/",
          "height": 357
        }
      },
      "source": [
        "#Generate a box plot of the per capita coulmns\n",
        "Just_pc.boxplot()\n",
        "#rotate x Labaels\n",
        "plt.xticks(rotation=45)\n",
        "# show plot \n",
        "plt.show() "
      ],
      "execution_count": 37,
      "outputs": [
        {
          "output_type": "display_data",
          "data": {
            "image/png": "[encoded data removed]",
            "text/plain": [
              "<Figure size 432x288 with 1 Axes>"
            ]
          },
          "metadata": {
            "tags": []
          }
        }
      ]
    },
    {
      "cell_type": "markdown",
      "metadata": {
        "id": "andCbJ6_POQ5"
      },
      "source": [
        "Show The data above as represented in seaborn and Matplotlib Box Plots for the same columns minus Total_PC."
      ]
    },
    {
      "cell_type": "code",
      "metadata": {
        "id": "mlXjf7zYlo1x",
        "outputId": "eba690c5-ff3e-421b-d7ca-d7dcab6c0fbd",
        "colab": {
          "base_uri": "https://localhost:8080/",
          "height": 357
        }
      },
      "source": [
        "#Generate a box plot of the per capita coulmns\n",
        "sns.boxplot(data=pc_minus_T)\n",
        "#rotate x Labaels\n",
        "plt.xticks(rotation=45)\n",
        "# show plot \n",
        "plt.show() "
      ],
      "execution_count": 38,
      "outputs": [
        {
          "output_type": "display_data",
          "data": {
            "image/png": "[encoded data removed]",
            "text/plain": [
              "<Figure size 432x288 with 1 Axes>"
            ]
          },
          "metadata": {
            "tags": []
          }
        }
      ]
    },
    {
      "cell_type": "code",
      "metadata": {
        "id": "0BZbI-Q2Otdn",
        "outputId": "bf451ea1-9c66-4dde-efef-9feadc094c1f",
        "colab": {
          "base_uri": "https://localhost:8080/",
          "height": 357
        }
      },
      "source": [
        "#Generate a box plot of the per capita coulmns\n",
        "pc_minus_T.boxplot()\n",
        "#rotate x Labaels\n",
        "plt.xticks(rotation=45)\n",
        "# show plot \n",
        "plt.show() "
      ],
      "execution_count": 39,
      "outputs": [
        {
          "output_type": "display_data",
          "data": {
            "image/png": "[encoded data removed]",
            "text/plain": [
              "<Figure size 432x288 with 1 Axes>"
            ]
          },
          "metadata": {
            "tags": []
          }
        }
      ]
    },
    {
      "cell_type": "markdown",
      "metadata": {
        "id": "OgQ7oFCfPWmO"
      },
      "source": [
        "Inference for Q2."
      ]
    },
    {
      "cell_type": "markdown",
      "metadata": {
        "id": "ybhyxv9mPfb-"
      },
      "source": [
        "Show all the columns in the p_capita dataframe to make sure we know what we are working with."
      ]
    },
    {
      "cell_type": "code",
      "metadata": {
        "id": "1fzej7cTVXrO",
        "outputId": "f8401ef8-503d-4bed-ddef-144bbc2c8391",
        "colab": {
          "base_uri": "https://localhost:8080/"
        }
      },
      "source": [
        "#Show the columns in p_capita\n",
        "p_capita.columns"
      ],
      "execution_count": 40,
      "outputs": [
        {
          "output_type": "execute_result",
          "data": {
            "text/plain": [
              "Index(['State', 'Population 2016', 'Total justice system PC ',\n",
              "       'Police Protection PC', 'Judicial and legal PC', 'Corrections PC',\n",
              "       'Total_PC'],\n",
              "      dtype='object')"
            ]
          },
          "metadata": {
            "tags": []
          },
          "execution_count": 40
        }
      ]
    },
    {
      "cell_type": "markdown",
      "metadata": {
        "id": "JaIuulytPq6K"
      },
      "source": [
        "Create five new data frames one for each of the five Per Capita columns. Each dataframe will only have it's corresponding column values and the state column."
      ]
    },
    {
      "cell_type": "code",
      "metadata": {
        "id": "a2rhwsx4Q83z"
      },
      "source": [
        "#Create five data frames for each of the per capita columns along with the state column\n",
        "justice_pc=p_capita.drop(['Population 2016', 'Police Protection PC', 'Judicial and legal PC', 'Corrections PC','Total_PC'],axis=1)\n",
        "Police_pc=p_capita.drop(['Population 2016', 'Total justice system PC ','Judicial and legal PC', 'Corrections PC','Total_PC'],axis=1)\n",
        "judicial_pc=p_capita.drop(['Population 2016', 'Total justice system PC ','Police Protection PC', 'Corrections PC','Total_PC'],axis=1)\n",
        "corretion_pc=p_capita.drop(['Population 2016', 'Total justice system PC ','Police Protection PC', 'Judicial and legal PC','Total_PC'],axis=1)\n",
        "T_total_pc=p_capita.drop(['Population 2016', 'Total justice system PC ','Police Protection PC', 'Judicial and legal PC', 'Corrections PC'],axis=1)"
      ],
      "execution_count": 41,
      "outputs": []
    },
    {
      "cell_type": "markdown",
      "metadata": {
        "id": "8GSc4BeaP7Qh"
      },
      "source": [
        "Order The column in descending order so that we can show it in descending order then show it and print graphs in descending order in both matplotlib and seaborn."
      ]
    },
    {
      "cell_type": "code",
      "metadata": {
        "id": "SFGoFONBPbYn"
      },
      "source": [
        "#Order your new dataframe in descending order\n",
        "justice_pc=justice_pc.sort_values(by=['Total justice system PC '], ascending=False)\n"
      ],
      "execution_count": 49,
      "outputs": []
    },
    {
      "cell_type": "code",
      "metadata": {
        "id": "T0RT-rLneDiV",
        "outputId": "9fafcca4-e0cd-40d2-feb4-732b77a223e4",
        "colab": {
          "base_uri": "https://localhost:8080/",
          "height": 1000
        }
      },
      "source": [
        "#Show it in descending order\n",
        "justice_pc"
      ],
      "execution_count": 50,
      "outputs": [
        {
          "output_type": "execute_result",
          "data": {
            "text/html": [
              "<div>\n",
              "<style scoped>\n",
              "    .dataframe tbody tr th:only-of-type {\n",
              "        vertical-align: middle;\n",
              "    }\n",
              "\n",
              "    .dataframe tbody tr th {\n",
              "        vertical-align: top;\n",
              "    }\n",
              "\n",
              "    .dataframe thead th {\n",
              "        text-align: right;\n",
              "    }\n",
              "</style>\n",
              "<table border=\"1\" class=\"dataframe\">\n",
              "  <thead>\n",
              "    <tr style=\"text-align: right;\">\n",
              "      <th></th>\n",
              "      <th>State</th>\n",
              "      <th>Total justice system PC</th>\n",
              "    </tr>\n",
              "  </thead>\n",
              "  <tbody>\n",
              "    <tr>\n",
              "      <th>2</th>\n",
              "      <td>Alaska</td>\n",
              "      <td>1297.65</td>\n",
              "    </tr>\n",
              "    <tr>\n",
              "      <th>5</th>\n",
              "      <td>California</td>\n",
              "      <td>1063.89</td>\n",
              "    </tr>\n",
              "    <tr>\n",
              "      <th>33</th>\n",
              "      <td>New York</td>\n",
              "      <td>1048.95</td>\n",
              "    </tr>\n",
              "    <tr>\n",
              "      <th>51</th>\n",
              "      <td>Wyoming</td>\n",
              "      <td>997.13</td>\n",
              "    </tr>\n",
              "    <tr>\n",
              "      <th>21</th>\n",
              "      <td>Maryland</td>\n",
              "      <td>912.84</td>\n",
              "    </tr>\n",
              "    <tr>\n",
              "      <th>8</th>\n",
              "      <td>Delaware</td>\n",
              "      <td>910.60</td>\n",
              "    </tr>\n",
              "    <tr>\n",
              "      <th>32</th>\n",
              "      <td>New Mexico</td>\n",
              "      <td>824.87</td>\n",
              "    </tr>\n",
              "    <tr>\n",
              "      <th>29</th>\n",
              "      <td>Nevada</td>\n",
              "      <td>812.32</td>\n",
              "    </tr>\n",
              "    <tr>\n",
              "      <th>38</th>\n",
              "      <td>Oregon</td>\n",
              "      <td>808.33</td>\n",
              "    </tr>\n",
              "    <tr>\n",
              "      <th>31</th>\n",
              "      <td>New Jersey</td>\n",
              "      <td>791.11</td>\n",
              "    </tr>\n",
              "    <tr>\n",
              "      <th>7</th>\n",
              "      <td>Connecticut</td>\n",
              "      <td>767.90</td>\n",
              "    </tr>\n",
              "    <tr>\n",
              "      <th>40</th>\n",
              "      <td>Rhode Island</td>\n",
              "      <td>760.94</td>\n",
              "    </tr>\n",
              "    <tr>\n",
              "      <th>19</th>\n",
              "      <td>Louisiana</td>\n",
              "      <td>741.85</td>\n",
              "    </tr>\n",
              "    <tr>\n",
              "      <th>27</th>\n",
              "      <td>Montana</td>\n",
              "      <td>729.41</td>\n",
              "    </tr>\n",
              "    <tr>\n",
              "      <th>39</th>\n",
              "      <td>Pennsylvania</td>\n",
              "      <td>714.15</td>\n",
              "    </tr>\n",
              "    <tr>\n",
              "      <th>6</th>\n",
              "      <td>Colorado</td>\n",
              "      <td>711.18</td>\n",
              "    </tr>\n",
              "    <tr>\n",
              "      <th>3</th>\n",
              "      <td>Arizona</td>\n",
              "      <td>709.77</td>\n",
              "    </tr>\n",
              "    <tr>\n",
              "      <th>50</th>\n",
              "      <td>Wisconsin</td>\n",
              "      <td>708.58</td>\n",
              "    </tr>\n",
              "    <tr>\n",
              "      <th>47</th>\n",
              "      <td>Virginia</td>\n",
              "      <td>705.52</td>\n",
              "    </tr>\n",
              "    <tr>\n",
              "      <th>10</th>\n",
              "      <td>Florida</td>\n",
              "      <td>701.08</td>\n",
              "    </tr>\n",
              "    <tr>\n",
              "      <th>22</th>\n",
              "      <td>Massachusetts</td>\n",
              "      <td>689.91</td>\n",
              "    </tr>\n",
              "    <tr>\n",
              "      <th>12</th>\n",
              "      <td>Hawaii</td>\n",
              "      <td>679.89</td>\n",
              "    </tr>\n",
              "    <tr>\n",
              "      <th>35</th>\n",
              "      <td>North Dakota</td>\n",
              "      <td>675.36</td>\n",
              "    </tr>\n",
              "    <tr>\n",
              "      <th>14</th>\n",
              "      <td>Illinois</td>\n",
              "      <td>671.84</td>\n",
              "    </tr>\n",
              "    <tr>\n",
              "      <th>24</th>\n",
              "      <td>Minnesota</td>\n",
              "      <td>663.84</td>\n",
              "    </tr>\n",
              "    <tr>\n",
              "      <th>48</th>\n",
              "      <td>Washington</td>\n",
              "      <td>660.33</td>\n",
              "    </tr>\n",
              "    <tr>\n",
              "      <th>36</th>\n",
              "      <td>Ohio</td>\n",
              "      <td>656.22</td>\n",
              "    </tr>\n",
              "    <tr>\n",
              "      <th>46</th>\n",
              "      <td>Vermont</td>\n",
              "      <td>650.75</td>\n",
              "    </tr>\n",
              "    <tr>\n",
              "      <th>23</th>\n",
              "      <td>Michigan</td>\n",
              "      <td>620.48</td>\n",
              "    </tr>\n",
              "    <tr>\n",
              "      <th>28</th>\n",
              "      <td>Nebraska</td>\n",
              "      <td>600.27</td>\n",
              "    </tr>\n",
              "    <tr>\n",
              "      <th>13</th>\n",
              "      <td>Idaho</td>\n",
              "      <td>593.95</td>\n",
              "    </tr>\n",
              "    <tr>\n",
              "      <th>44</th>\n",
              "      <td>Texas</td>\n",
              "      <td>592.19</td>\n",
              "    </tr>\n",
              "    <tr>\n",
              "      <th>34</th>\n",
              "      <td>North Carolina</td>\n",
              "      <td>576.85</td>\n",
              "    </tr>\n",
              "    <tr>\n",
              "      <th>43</th>\n",
              "      <td>Tennessee</td>\n",
              "      <td>571.23</td>\n",
              "    </tr>\n",
              "    <tr>\n",
              "      <th>11</th>\n",
              "      <td>Georgia</td>\n",
              "      <td>568.02</td>\n",
              "    </tr>\n",
              "    <tr>\n",
              "      <th>17</th>\n",
              "      <td>Kansas</td>\n",
              "      <td>564.97</td>\n",
              "    </tr>\n",
              "    <tr>\n",
              "      <th>37</th>\n",
              "      <td>Oklahoma</td>\n",
              "      <td>558.29</td>\n",
              "    </tr>\n",
              "    <tr>\n",
              "      <th>49</th>\n",
              "      <td>West Virginia</td>\n",
              "      <td>555.79</td>\n",
              "    </tr>\n",
              "    <tr>\n",
              "      <th>42</th>\n",
              "      <td>South Dakota</td>\n",
              "      <td>547.21</td>\n",
              "    </tr>\n",
              "    <tr>\n",
              "      <th>30</th>\n",
              "      <td>New Hampshire</td>\n",
              "      <td>546.03</td>\n",
              "    </tr>\n",
              "    <tr>\n",
              "      <th>26</th>\n",
              "      <td>Missouri</td>\n",
              "      <td>536.46</td>\n",
              "    </tr>\n",
              "    <tr>\n",
              "      <th>25</th>\n",
              "      <td>Mississippi</td>\n",
              "      <td>507.07</td>\n",
              "    </tr>\n",
              "    <tr>\n",
              "      <th>18</th>\n",
              "      <td>Kentucky</td>\n",
              "      <td>505.74</td>\n",
              "    </tr>\n",
              "    <tr>\n",
              "      <th>16</th>\n",
              "      <td>Iowa</td>\n",
              "      <td>504.91</td>\n",
              "    </tr>\n",
              "    <tr>\n",
              "      <th>20</th>\n",
              "      <td>Maine</td>\n",
              "      <td>504.40</td>\n",
              "    </tr>\n",
              "    <tr>\n",
              "      <th>4</th>\n",
              "      <td>Arkansas</td>\n",
              "      <td>503.99</td>\n",
              "    </tr>\n",
              "    <tr>\n",
              "      <th>45</th>\n",
              "      <td>Utah</td>\n",
              "      <td>503.63</td>\n",
              "    </tr>\n",
              "    <tr>\n",
              "      <th>1</th>\n",
              "      <td>Alabama</td>\n",
              "      <td>480.11</td>\n",
              "    </tr>\n",
              "    <tr>\n",
              "      <th>41</th>\n",
              "      <td>South Carolina</td>\n",
              "      <td>465.48</td>\n",
              "    </tr>\n",
              "    <tr>\n",
              "      <th>15</th>\n",
              "      <td>Indiana</td>\n",
              "      <td>450.08</td>\n",
              "    </tr>\n",
              "  </tbody>\n",
              "</table>\n",
              "</div>"
            ],
            "text/plain": [
              "             State  Total justice system PC \n",
              "2           Alaska                   1297.65\n",
              "5       California                   1063.89\n",
              "33        New York                   1048.95\n",
              "51         Wyoming                    997.13\n",
              "21        Maryland                    912.84\n",
              "8         Delaware                    910.60\n",
              "32      New Mexico                    824.87\n",
              "29          Nevada                    812.32\n",
              "38          Oregon                    808.33\n",
              "31      New Jersey                    791.11\n",
              "7      Connecticut                    767.90\n",
              "40    Rhode Island                    760.94\n",
              "19       Louisiana                    741.85\n",
              "27         Montana                    729.41\n",
              "39    Pennsylvania                    714.15\n",
              "6         Colorado                    711.18\n",
              "3          Arizona                    709.77\n",
              "50       Wisconsin                    708.58\n",
              "47        Virginia                    705.52\n",
              "10         Florida                    701.08\n",
              "22   Massachusetts                    689.91\n",
              "12          Hawaii                    679.89\n",
              "35    North Dakota                    675.36\n",
              "14        Illinois                    671.84\n",
              "24       Minnesota                    663.84\n",
              "48      Washington                    660.33\n",
              "36            Ohio                    656.22\n",
              "46         Vermont                    650.75\n",
              "23        Michigan                    620.48\n",
              "28        Nebraska                    600.27\n",
              "13           Idaho                    593.95\n",
              "44           Texas                    592.19\n",
              "34  North Carolina                    576.85\n",
              "43       Tennessee                    571.23\n",
              "11         Georgia                    568.02\n",
              "17          Kansas                    564.97\n",
              "37        Oklahoma                    558.29\n",
              "49   West Virginia                    555.79\n",
              "42    South Dakota                    547.21\n",
              "30   New Hampshire                    546.03\n",
              "26        Missouri                    536.46\n",
              "25     Mississippi                    507.07\n",
              "18        Kentucky                    505.74\n",
              "16            Iowa                    504.91\n",
              "20           Maine                    504.40\n",
              "4         Arkansas                    503.99\n",
              "45            Utah                    503.63\n",
              "1          Alabama                    480.11\n",
              "41  South Carolina                    465.48\n",
              "15         Indiana                    450.08"
            ]
          },
          "metadata": {
            "tags": []
          },
          "execution_count": 50
        }
      ]
    },
    {
      "cell_type": "code",
      "metadata": {
        "id": "bao-8oc3Y03X",
        "outputId": "a3e229ae-e981-4a16-a506-60a39970ceae",
        "colab": {
          "base_uri": "https://localhost:8080/",
          "height": 417
        }
      },
      "source": [
        "#Create the barplot in descending order\n",
        "justice_pc.plot.bar(x='State',y='Total justice system PC ', figsize=(15,5))\n",
        "\n",
        "plt.show()"
      ],
      "execution_count": 51,
      "outputs": [
        {
          "output_type": "display_data",
          "data": {
            "image/png": "[encoded data removed]",
            "text/plain": [
              "<Figure size 1080x360 with 1 Axes>"
            ]
          },
          "metadata": {
            "tags": []
          }
        }
      ]
    },
    {
      "cell_type": "code",
      "metadata": {
        "id": "TXqkIrlpikUI",
        "outputId": "bb770e74-423a-40d5-b062-50e672b1ae8a",
        "colab": {
          "base_uri": "https://localhost:8080/",
          "height": 417
        }
      },
      "source": [
        "#Create the barplot in descending order\n",
        "sns.barplot(x='State',y='Total justice system PC ',data=justice_pc)\n",
        "sns.set(rc={'figure.figsize':(15,5)})\n",
        "plt.xticks(rotation=90)\n",
        "plt.show()"
      ],
      "execution_count": 52,
      "outputs": [
        {
          "output_type": "display_data",
          "data": {
            "image/png": "[encoded data removed]",
            "text/plain": [
              "<Figure size 1080x360 with 1 Axes>"
            ]
          },
          "metadata": {
            "tags": []
          }
        }
      ]
    },
    {
      "cell_type": "markdown",
      "metadata": {
        "id": "rzr5aWIOQNfO"
      },
      "source": [
        "Order The column in descending order so that we can show it in descending order then show it and print graphs in descending order in both matplotlib and seaborn."
      ]
    },
    {
      "cell_type": "code",
      "metadata": {
        "id": "mrVyMfODXKoc"
      },
      "source": [
        "#Order your new dataframe in descending order\n",
        "Police_pc=Police_pc.sort_values(by=['Police Protection PC'], ascending=False)"
      ],
      "execution_count": 53,
      "outputs": []
    },
    {
      "cell_type": "code",
      "metadata": {
        "id": "3p4-Gz8NeBA0",
        "outputId": "833350b2-276e-4b7a-cfc7-c091fc303fe0",
        "colab": {
          "base_uri": "https://localhost:8080/",
          "height": 1000
        }
      },
      "source": [
        "#Show it in descending order\n",
        "Police_pc"
      ],
      "execution_count": 54,
      "outputs": [
        {
          "output_type": "execute_result",
          "data": {
            "text/html": [
              "<div>\n",
              "<style scoped>\n",
              "    .dataframe tbody tr th:only-of-type {\n",
              "        vertical-align: middle;\n",
              "    }\n",
              "\n",
              "    .dataframe tbody tr th {\n",
              "        vertical-align: top;\n",
              "    }\n",
              "\n",
              "    .dataframe thead th {\n",
              "        text-align: right;\n",
              "    }\n",
              "</style>\n",
              "<table border=\"1\" class=\"dataframe\">\n",
              "  <thead>\n",
              "    <tr style=\"text-align: right;\">\n",
              "      <th></th>\n",
              "      <th>State</th>\n",
              "      <th>Police Protection PC</th>\n",
              "    </tr>\n",
              "  </thead>\n",
              "  <tbody>\n",
              "    <tr>\n",
              "      <th>33</th>\n",
              "      <td>New York</td>\n",
              "      <td>505.16</td>\n",
              "    </tr>\n",
              "    <tr>\n",
              "      <th>2</th>\n",
              "      <td>Alaska</td>\n",
              "      <td>499.27</td>\n",
              "    </tr>\n",
              "    <tr>\n",
              "      <th>5</th>\n",
              "      <td>California</td>\n",
              "      <td>448.11</td>\n",
              "    </tr>\n",
              "    <tr>\n",
              "      <th>21</th>\n",
              "      <td>Maryland</td>\n",
              "      <td>441.17</td>\n",
              "    </tr>\n",
              "    <tr>\n",
              "      <th>51</th>\n",
              "      <td>Wyoming</td>\n",
              "      <td>413.82</td>\n",
              "    </tr>\n",
              "    <tr>\n",
              "      <th>40</th>\n",
              "      <td>Rhode Island</td>\n",
              "      <td>412.11</td>\n",
              "    </tr>\n",
              "    <tr>\n",
              "      <th>14</th>\n",
              "      <td>Illinois</td>\n",
              "      <td>406.65</td>\n",
              "    </tr>\n",
              "    <tr>\n",
              "      <th>29</th>\n",
              "      <td>Nevada</td>\n",
              "      <td>405.63</td>\n",
              "    </tr>\n",
              "    <tr>\n",
              "      <th>31</th>\n",
              "      <td>New Jersey</td>\n",
              "      <td>388.21</td>\n",
              "    </tr>\n",
              "    <tr>\n",
              "      <th>10</th>\n",
              "      <td>Florida</td>\n",
              "      <td>380.44</td>\n",
              "    </tr>\n",
              "    <tr>\n",
              "      <th>8</th>\n",
              "      <td>Delaware</td>\n",
              "      <td>366.65</td>\n",
              "    </tr>\n",
              "    <tr>\n",
              "      <th>22</th>\n",
              "      <td>Massachusetts</td>\n",
              "      <td>366.53</td>\n",
              "    </tr>\n",
              "    <tr>\n",
              "      <th>24</th>\n",
              "      <td>Minnesota</td>\n",
              "      <td>348.04</td>\n",
              "    </tr>\n",
              "    <tr>\n",
              "      <th>7</th>\n",
              "      <td>Connecticut</td>\n",
              "      <td>345.66</td>\n",
              "    </tr>\n",
              "    <tr>\n",
              "      <th>19</th>\n",
              "      <td>Louisiana</td>\n",
              "      <td>345.07</td>\n",
              "    </tr>\n",
              "    <tr>\n",
              "      <th>6</th>\n",
              "      <td>Colorado</td>\n",
              "      <td>338.09</td>\n",
              "    </tr>\n",
              "    <tr>\n",
              "      <th>32</th>\n",
              "      <td>New Mexico</td>\n",
              "      <td>334.82</td>\n",
              "    </tr>\n",
              "    <tr>\n",
              "      <th>36</th>\n",
              "      <td>Ohio</td>\n",
              "      <td>333.68</td>\n",
              "    </tr>\n",
              "    <tr>\n",
              "      <th>3</th>\n",
              "      <td>Arizona</td>\n",
              "      <td>325.62</td>\n",
              "    </tr>\n",
              "    <tr>\n",
              "      <th>50</th>\n",
              "      <td>Wisconsin</td>\n",
              "      <td>324.53</td>\n",
              "    </tr>\n",
              "    <tr>\n",
              "      <th>34</th>\n",
              "      <td>North Carolina</td>\n",
              "      <td>322.10</td>\n",
              "    </tr>\n",
              "    <tr>\n",
              "      <th>38</th>\n",
              "      <td>Oregon</td>\n",
              "      <td>321.55</td>\n",
              "    </tr>\n",
              "    <tr>\n",
              "      <th>12</th>\n",
              "      <td>Hawaii</td>\n",
              "      <td>321.41</td>\n",
              "    </tr>\n",
              "    <tr>\n",
              "      <th>46</th>\n",
              "      <td>Vermont</td>\n",
              "      <td>301.79</td>\n",
              "    </tr>\n",
              "    <tr>\n",
              "      <th>30</th>\n",
              "      <td>New Hampshire</td>\n",
              "      <td>293.32</td>\n",
              "    </tr>\n",
              "    <tr>\n",
              "      <th>39</th>\n",
              "      <td>Pennsylvania</td>\n",
              "      <td>290.79</td>\n",
              "    </tr>\n",
              "    <tr>\n",
              "      <th>26</th>\n",
              "      <td>Missouri</td>\n",
              "      <td>286.44</td>\n",
              "    </tr>\n",
              "    <tr>\n",
              "      <th>43</th>\n",
              "      <td>Tennessee</td>\n",
              "      <td>279.13</td>\n",
              "    </tr>\n",
              "    <tr>\n",
              "      <th>27</th>\n",
              "      <td>Montana</td>\n",
              "      <td>278.90</td>\n",
              "    </tr>\n",
              "    <tr>\n",
              "      <th>47</th>\n",
              "      <td>Virginia</td>\n",
              "      <td>277.95</td>\n",
              "    </tr>\n",
              "    <tr>\n",
              "      <th>35</th>\n",
              "      <td>North Dakota</td>\n",
              "      <td>275.78</td>\n",
              "    </tr>\n",
              "    <tr>\n",
              "      <th>17</th>\n",
              "      <td>Kansas</td>\n",
              "      <td>274.42</td>\n",
              "    </tr>\n",
              "    <tr>\n",
              "      <th>44</th>\n",
              "      <td>Texas</td>\n",
              "      <td>272.58</td>\n",
              "    </tr>\n",
              "    <tr>\n",
              "      <th>13</th>\n",
              "      <td>Idaho</td>\n",
              "      <td>271.63</td>\n",
              "    </tr>\n",
              "    <tr>\n",
              "      <th>37</th>\n",
              "      <td>Oklahoma</td>\n",
              "      <td>271.19</td>\n",
              "    </tr>\n",
              "    <tr>\n",
              "      <th>48</th>\n",
              "      <td>Washington</td>\n",
              "      <td>267.91</td>\n",
              "    </tr>\n",
              "    <tr>\n",
              "      <th>11</th>\n",
              "      <td>Georgia</td>\n",
              "      <td>263.81</td>\n",
              "    </tr>\n",
              "    <tr>\n",
              "      <th>1</th>\n",
              "      <td>Alabama</td>\n",
              "      <td>257.21</td>\n",
              "    </tr>\n",
              "    <tr>\n",
              "      <th>23</th>\n",
              "      <td>Michigan</td>\n",
              "      <td>252.10</td>\n",
              "    </tr>\n",
              "    <tr>\n",
              "      <th>16</th>\n",
              "      <td>Iowa</td>\n",
              "      <td>248.60</td>\n",
              "    </tr>\n",
              "    <tr>\n",
              "      <th>25</th>\n",
              "      <td>Mississippi</td>\n",
              "      <td>248.46</td>\n",
              "    </tr>\n",
              "    <tr>\n",
              "      <th>41</th>\n",
              "      <td>South Carolina</td>\n",
              "      <td>240.77</td>\n",
              "    </tr>\n",
              "    <tr>\n",
              "      <th>28</th>\n",
              "      <td>Nebraska</td>\n",
              "      <td>240.71</td>\n",
              "    </tr>\n",
              "    <tr>\n",
              "      <th>42</th>\n",
              "      <td>South Dakota</td>\n",
              "      <td>233.25</td>\n",
              "    </tr>\n",
              "    <tr>\n",
              "      <th>4</th>\n",
              "      <td>Arkansas</td>\n",
              "      <td>231.09</td>\n",
              "    </tr>\n",
              "    <tr>\n",
              "      <th>20</th>\n",
              "      <td>Maine</td>\n",
              "      <td>221.53</td>\n",
              "    </tr>\n",
              "    <tr>\n",
              "      <th>45</th>\n",
              "      <td>Utah</td>\n",
              "      <td>215.29</td>\n",
              "    </tr>\n",
              "    <tr>\n",
              "      <th>49</th>\n",
              "      <td>West Virginia</td>\n",
              "      <td>211.49</td>\n",
              "    </tr>\n",
              "    <tr>\n",
              "      <th>15</th>\n",
              "      <td>Indiana</td>\n",
              "      <td>189.20</td>\n",
              "    </tr>\n",
              "    <tr>\n",
              "      <th>18</th>\n",
              "      <td>Kentucky</td>\n",
              "      <td>160.32</td>\n",
              "    </tr>\n",
              "  </tbody>\n",
              "</table>\n",
              "</div>"
            ],
            "text/plain": [
              "             State  Police Protection PC\n",
              "33        New York                505.16\n",
              "2           Alaska                499.27\n",
              "5       California                448.11\n",
              "21        Maryland                441.17\n",
              "51         Wyoming                413.82\n",
              "40    Rhode Island                412.11\n",
              "14        Illinois                406.65\n",
              "29          Nevada                405.63\n",
              "31      New Jersey                388.21\n",
              "10         Florida                380.44\n",
              "8         Delaware                366.65\n",
              "22   Massachusetts                366.53\n",
              "24       Minnesota                348.04\n",
              "7      Connecticut                345.66\n",
              "19       Louisiana                345.07\n",
              "6         Colorado                338.09\n",
              "32      New Mexico                334.82\n",
              "36            Ohio                333.68\n",
              "3          Arizona                325.62\n",
              "50       Wisconsin                324.53\n",
              "34  North Carolina                322.10\n",
              "38          Oregon                321.55\n",
              "12          Hawaii                321.41\n",
              "46         Vermont                301.79\n",
              "30   New Hampshire                293.32\n",
              "39    Pennsylvania                290.79\n",
              "26        Missouri                286.44\n",
              "43       Tennessee                279.13\n",
              "27         Montana                278.90\n",
              "47        Virginia                277.95\n",
              "35    North Dakota                275.78\n",
              "17          Kansas                274.42\n",
              "44           Texas                272.58\n",
              "13           Idaho                271.63\n",
              "37        Oklahoma                271.19\n",
              "48      Washington                267.91\n",
              "11         Georgia                263.81\n",
              "1          Alabama                257.21\n",
              "23        Michigan                252.10\n",
              "16            Iowa                248.60\n",
              "25     Mississippi                248.46\n",
              "41  South Carolina                240.77\n",
              "28        Nebraska                240.71\n",
              "42    South Dakota                233.25\n",
              "4         Arkansas                231.09\n",
              "20           Maine                221.53\n",
              "45            Utah                215.29\n",
              "49   West Virginia                211.49\n",
              "15         Indiana                189.20\n",
              "18        Kentucky                160.32"
            ]
          },
          "metadata": {
            "tags": []
          },
          "execution_count": 54
        }
      ]
    },
    {
      "cell_type": "code",
      "metadata": {
        "id": "d2AcXWSteV1y",
        "outputId": "5d64e14d-0e72-4572-8fc4-db20d251bff0",
        "colab": {
          "base_uri": "https://localhost:8080/",
          "height": 417
        }
      },
      "source": [
        "#Create the barplot in descending order\n",
        "Police_pc.plot.bar(x='State',y='Police Protection PC', figsize=(15,5))\n",
        "\n",
        "plt.show()"
      ],
      "execution_count": 55,
      "outputs": [
        {
          "output_type": "display_data",
          "data": {
            "image/png": "[encoded data removed]",
            "text/plain": [
              "<Figure size 1080x360 with 1 Axes>"
            ]
          },
          "metadata": {
            "tags": []
          }
        }
      ]
    },
    {
      "cell_type": "code",
      "metadata": {
        "id": "xCZpLK_Zic6U",
        "outputId": "ded498f8-0a91-45ab-d8f0-ac3fd813c888",
        "colab": {
          "base_uri": "https://localhost:8080/",
          "height": 417
        }
      },
      "source": [
        "#Create the barplot in descending order\n",
        "sns.barplot(x='State',y='Police Protection PC',data=Police_pc)\n",
        "sns.set(rc={'figure.figsize':(15,5)})\n",
        "plt.xticks(rotation=90)\n",
        "plt.show()"
      ],
      "execution_count": 56,
      "outputs": [
        {
          "output_type": "display_data",
          "data": {
            "image/png": "[encoded data removed]",
            "text/plain": [
              "<Figure size 1080x360 with 1 Axes>"
            ]
          },
          "metadata": {
            "tags": []
          }
        }
      ]
    },
    {
      "cell_type": "markdown",
      "metadata": {
        "id": "8Pq9EH3QQQYN"
      },
      "source": [
        "Order The column in descending order so that we can show it in descending order then show it and print graphs in descending order in both matplotlib and seaborn."
      ]
    },
    {
      "cell_type": "code",
      "metadata": {
        "id": "rz4X3Z9TXK25"
      },
      "source": [
        "#Order your new dataframe in descending order\n",
        "judicial_pc=judicial_pc.sort_values(by=['Judicial and legal PC'], ascending=False)"
      ],
      "execution_count": 57,
      "outputs": []
    },
    {
      "cell_type": "code",
      "metadata": {
        "id": "Xnk41Pe3d-vE",
        "outputId": "85a0569b-4312-4da6-95c0-3a12d8026b3c",
        "colab": {
          "base_uri": "https://localhost:8080/",
          "height": 1000
        }
      },
      "source": [
        "#Show it in descending order\n",
        "judicial_pc"
      ],
      "execution_count": 58,
      "outputs": [
        {
          "output_type": "execute_result",
          "data": {
            "text/html": [
              "<div>\n",
              "<style scoped>\n",
              "    .dataframe tbody tr th:only-of-type {\n",
              "        vertical-align: middle;\n",
              "    }\n",
              "\n",
              "    .dataframe tbody tr th {\n",
              "        vertical-align: top;\n",
              "    }\n",
              "\n",
              "    .dataframe thead th {\n",
              "        text-align: right;\n",
              "    }\n",
              "</style>\n",
              "<table border=\"1\" class=\"dataframe\">\n",
              "  <thead>\n",
              "    <tr style=\"text-align: right;\">\n",
              "      <th></th>\n",
              "      <th>State</th>\n",
              "      <th>Judicial and legal PC</th>\n",
              "    </tr>\n",
              "  </thead>\n",
              "  <tbody>\n",
              "    <tr>\n",
              "      <th>2</th>\n",
              "      <td>Alaska</td>\n",
              "      <td>342.55</td>\n",
              "    </tr>\n",
              "    <tr>\n",
              "      <th>7</th>\n",
              "      <td>Connecticut</td>\n",
              "      <td>231.06</td>\n",
              "    </tr>\n",
              "    <tr>\n",
              "      <th>5</th>\n",
              "      <td>California</td>\n",
              "      <td>221.27</td>\n",
              "    </tr>\n",
              "    <tr>\n",
              "      <th>8</th>\n",
              "      <td>Delaware</td>\n",
              "      <td>219.12</td>\n",
              "    </tr>\n",
              "    <tr>\n",
              "      <th>51</th>\n",
              "      <td>Wyoming</td>\n",
              "      <td>216.09</td>\n",
              "    </tr>\n",
              "    <tr>\n",
              "      <th>33</th>\n",
              "      <td>New York</td>\n",
              "      <td>211.65</td>\n",
              "    </tr>\n",
              "    <tr>\n",
              "      <th>12</th>\n",
              "      <td>Hawaii</td>\n",
              "      <td>206.21</td>\n",
              "    </tr>\n",
              "    <tr>\n",
              "      <th>27</th>\n",
              "      <td>Montana</td>\n",
              "      <td>203.06</td>\n",
              "    </tr>\n",
              "    <tr>\n",
              "      <th>38</th>\n",
              "      <td>Oregon</td>\n",
              "      <td>189.50</td>\n",
              "    </tr>\n",
              "    <tr>\n",
              "      <th>31</th>\n",
              "      <td>New Jersey</td>\n",
              "      <td>172.68</td>\n",
              "    </tr>\n",
              "    <tr>\n",
              "      <th>35</th>\n",
              "      <td>North Dakota</td>\n",
              "      <td>167.42</td>\n",
              "    </tr>\n",
              "    <tr>\n",
              "      <th>29</th>\n",
              "      <td>Nevada</td>\n",
              "      <td>162.91</td>\n",
              "    </tr>\n",
              "    <tr>\n",
              "      <th>22</th>\n",
              "      <td>Massachusetts</td>\n",
              "      <td>159.38</td>\n",
              "    </tr>\n",
              "    <tr>\n",
              "      <th>32</th>\n",
              "      <td>New Mexico</td>\n",
              "      <td>157.37</td>\n",
              "    </tr>\n",
              "    <tr>\n",
              "      <th>48</th>\n",
              "      <td>Washington</td>\n",
              "      <td>155.59</td>\n",
              "    </tr>\n",
              "    <tr>\n",
              "      <th>21</th>\n",
              "      <td>Maryland</td>\n",
              "      <td>155.37</td>\n",
              "    </tr>\n",
              "    <tr>\n",
              "      <th>19</th>\n",
              "      <td>Louisiana</td>\n",
              "      <td>153.43</td>\n",
              "    </tr>\n",
              "    <tr>\n",
              "      <th>49</th>\n",
              "      <td>West Virginia</td>\n",
              "      <td>151.51</td>\n",
              "    </tr>\n",
              "    <tr>\n",
              "      <th>36</th>\n",
              "      <td>Ohio</td>\n",
              "      <td>150.09</td>\n",
              "    </tr>\n",
              "    <tr>\n",
              "      <th>39</th>\n",
              "      <td>Pennsylvania</td>\n",
              "      <td>148.86</td>\n",
              "    </tr>\n",
              "    <tr>\n",
              "      <th>18</th>\n",
              "      <td>Kentucky</td>\n",
              "      <td>141.84</td>\n",
              "    </tr>\n",
              "    <tr>\n",
              "      <th>3</th>\n",
              "      <td>Arizona</td>\n",
              "      <td>141.59</td>\n",
              "    </tr>\n",
              "    <tr>\n",
              "      <th>40</th>\n",
              "      <td>Rhode Island</td>\n",
              "      <td>138.70</td>\n",
              "    </tr>\n",
              "    <tr>\n",
              "      <th>6</th>\n",
              "      <td>Colorado</td>\n",
              "      <td>136.11</td>\n",
              "    </tr>\n",
              "    <tr>\n",
              "      <th>24</th>\n",
              "      <td>Minnesota</td>\n",
              "      <td>132.43</td>\n",
              "    </tr>\n",
              "    <tr>\n",
              "      <th>46</th>\n",
              "      <td>Vermont</td>\n",
              "      <td>129.11</td>\n",
              "    </tr>\n",
              "    <tr>\n",
              "      <th>47</th>\n",
              "      <td>Virginia</td>\n",
              "      <td>123.12</td>\n",
              "    </tr>\n",
              "    <tr>\n",
              "      <th>14</th>\n",
              "      <td>Illinois</td>\n",
              "      <td>120.78</td>\n",
              "    </tr>\n",
              "    <tr>\n",
              "      <th>13</th>\n",
              "      <td>Idaho</td>\n",
              "      <td>118.67</td>\n",
              "    </tr>\n",
              "    <tr>\n",
              "      <th>11</th>\n",
              "      <td>Georgia</td>\n",
              "      <td>117.93</td>\n",
              "    </tr>\n",
              "    <tr>\n",
              "      <th>45</th>\n",
              "      <td>Utah</td>\n",
              "      <td>115.28</td>\n",
              "    </tr>\n",
              "    <tr>\n",
              "      <th>43</th>\n",
              "      <td>Tennessee</td>\n",
              "      <td>115.18</td>\n",
              "    </tr>\n",
              "    <tr>\n",
              "      <th>23</th>\n",
              "      <td>Michigan</td>\n",
              "      <td>115.04</td>\n",
              "    </tr>\n",
              "    <tr>\n",
              "      <th>50</th>\n",
              "      <td>Wisconsin</td>\n",
              "      <td>114.83</td>\n",
              "    </tr>\n",
              "    <tr>\n",
              "      <th>10</th>\n",
              "      <td>Florida</td>\n",
              "      <td>114.70</td>\n",
              "    </tr>\n",
              "    <tr>\n",
              "      <th>16</th>\n",
              "      <td>Iowa</td>\n",
              "      <td>114.46</td>\n",
              "    </tr>\n",
              "    <tr>\n",
              "      <th>17</th>\n",
              "      <td>Kansas</td>\n",
              "      <td>113.44</td>\n",
              "    </tr>\n",
              "    <tr>\n",
              "      <th>44</th>\n",
              "      <td>Texas</td>\n",
              "      <td>107.66</td>\n",
              "    </tr>\n",
              "    <tr>\n",
              "      <th>42</th>\n",
              "      <td>South Dakota</td>\n",
              "      <td>105.77</td>\n",
              "    </tr>\n",
              "    <tr>\n",
              "      <th>30</th>\n",
              "      <td>New Hampshire</td>\n",
              "      <td>104.86</td>\n",
              "    </tr>\n",
              "    <tr>\n",
              "      <th>28</th>\n",
              "      <td>Nebraska</td>\n",
              "      <td>97.48</td>\n",
              "    </tr>\n",
              "    <tr>\n",
              "      <th>37</th>\n",
              "      <td>Oklahoma</td>\n",
              "      <td>95.56</td>\n",
              "    </tr>\n",
              "    <tr>\n",
              "      <th>26</th>\n",
              "      <td>Missouri</td>\n",
              "      <td>92.24</td>\n",
              "    </tr>\n",
              "    <tr>\n",
              "      <th>25</th>\n",
              "      <td>Mississippi</td>\n",
              "      <td>92.00</td>\n",
              "    </tr>\n",
              "    <tr>\n",
              "      <th>15</th>\n",
              "      <td>Indiana</td>\n",
              "      <td>86.20</td>\n",
              "    </tr>\n",
              "    <tr>\n",
              "      <th>20</th>\n",
              "      <td>Maine</td>\n",
              "      <td>84.49</td>\n",
              "    </tr>\n",
              "    <tr>\n",
              "      <th>34</th>\n",
              "      <td>North Carolina</td>\n",
              "      <td>75.23</td>\n",
              "    </tr>\n",
              "    <tr>\n",
              "      <th>1</th>\n",
              "      <td>Alabama</td>\n",
              "      <td>74.43</td>\n",
              "    </tr>\n",
              "    <tr>\n",
              "      <th>4</th>\n",
              "      <td>Arkansas</td>\n",
              "      <td>73.68</td>\n",
              "    </tr>\n",
              "    <tr>\n",
              "      <th>41</th>\n",
              "      <td>South Carolina</td>\n",
              "      <td>72.35</td>\n",
              "    </tr>\n",
              "  </tbody>\n",
              "</table>\n",
              "</div>"
            ],
            "text/plain": [
              "             State  Judicial and legal PC\n",
              "2           Alaska                 342.55\n",
              "7      Connecticut                 231.06\n",
              "5       California                 221.27\n",
              "8         Delaware                 219.12\n",
              "51         Wyoming                 216.09\n",
              "33        New York                 211.65\n",
              "12          Hawaii                 206.21\n",
              "27         Montana                 203.06\n",
              "38          Oregon                 189.50\n",
              "31      New Jersey                 172.68\n",
              "35    North Dakota                 167.42\n",
              "29          Nevada                 162.91\n",
              "22   Massachusetts                 159.38\n",
              "32      New Mexico                 157.37\n",
              "48      Washington                 155.59\n",
              "21        Maryland                 155.37\n",
              "19       Louisiana                 153.43\n",
              "49   West Virginia                 151.51\n",
              "36            Ohio                 150.09\n",
              "39    Pennsylvania                 148.86\n",
              "18        Kentucky                 141.84\n",
              "3          Arizona                 141.59\n",
              "40    Rhode Island                 138.70\n",
              "6         Colorado                 136.11\n",
              "24       Minnesota                 132.43\n",
              "46         Vermont                 129.11\n",
              "47        Virginia                 123.12\n",
              "14        Illinois                 120.78\n",
              "13           Idaho                 118.67\n",
              "11         Georgia                 117.93\n",
              "45            Utah                 115.28\n",
              "43       Tennessee                 115.18\n",
              "23        Michigan                 115.04\n",
              "50       Wisconsin                 114.83\n",
              "10         Florida                 114.70\n",
              "16            Iowa                 114.46\n",
              "17          Kansas                 113.44\n",
              "44           Texas                 107.66\n",
              "42    South Dakota                 105.77\n",
              "30   New Hampshire                 104.86\n",
              "28        Nebraska                  97.48\n",
              "37        Oklahoma                  95.56\n",
              "26        Missouri                  92.24\n",
              "25     Mississippi                  92.00\n",
              "15         Indiana                  86.20\n",
              "20           Maine                  84.49\n",
              "34  North Carolina                  75.23\n",
              "1          Alabama                  74.43\n",
              "4         Arkansas                  73.68\n",
              "41  South Carolina                  72.35"
            ]
          },
          "metadata": {
            "tags": []
          },
          "execution_count": 58
        }
      ]
    },
    {
      "cell_type": "code",
      "metadata": {
        "id": "02bS0pzmer_x",
        "outputId": "140f3b15-a6c3-42cd-b2fc-39e410b29097",
        "colab": {
          "base_uri": "https://localhost:8080/",
          "height": 417
        }
      },
      "source": [
        "#Create the barplot in descending order\n",
        "judicial_pc.plot.bar(x='State',y='Judicial and legal PC', figsize=(15,5))\n",
        "\n",
        "plt.show()"
      ],
      "execution_count": 59,
      "outputs": [
        {
          "output_type": "display_data",
          "data": {
            "image/png": "[encoded data removed]",
            "text/plain": [
              "<Figure size 1080x360 with 1 Axes>"
            ]
          },
          "metadata": {
            "tags": []
          }
        }
      ]
    },
    {
      "cell_type": "code",
      "metadata": {
        "id": "Ok8ukETSg8P9",
        "outputId": "83589b09-d031-4112-a6a9-0bb085e254e5",
        "colab": {
          "base_uri": "https://localhost:8080/",
          "height": 417
        }
      },
      "source": [
        "#Create the barplot in descending order\n",
        "sns.barplot(x='State',y='Judicial and legal PC',data=judicial_pc)\n",
        "sns.set(rc={'figure.figsize':(15,5)})\n",
        "plt.xticks(rotation=90)\n",
        "plt.show()"
      ],
      "execution_count": 60,
      "outputs": [
        {
          "output_type": "display_data",
          "data": {
            "image/png": "[encoded data removed]",
            "text/plain": [
              "<Figure size 1080x360 with 1 Axes>"
            ]
          },
          "metadata": {
            "tags": []
          }
        }
      ]
    },
    {
      "cell_type": "markdown",
      "metadata": {
        "id": "hn9fughRQS-n"
      },
      "source": [
        "Order The column in descending order so that we can show it in descending order then show it and print graphs in descending order in both matplotlib and seaborn."
      ]
    },
    {
      "cell_type": "code",
      "metadata": {
        "id": "60lkNvBuXLIX"
      },
      "source": [
        "#Order your new dataframe in descending order\n",
        "corretion_pc=corretion_pc.sort_values(by=['Corrections PC'], ascending=False)\n"
      ],
      "execution_count": 61,
      "outputs": []
    },
    {
      "cell_type": "code",
      "metadata": {
        "id": "LcUy_e90d5oH",
        "outputId": "e935c509-2474-4c42-e8a4-08e97cf2f546",
        "colab": {
          "base_uri": "https://localhost:8080/",
          "height": 1000
        }
      },
      "source": [
        "#Show it in descending order\n",
        "corretion_pc"
      ],
      "execution_count": 62,
      "outputs": [
        {
          "output_type": "execute_result",
          "data": {
            "text/html": [
              "<div>\n",
              "<style scoped>\n",
              "    .dataframe tbody tr th:only-of-type {\n",
              "        vertical-align: middle;\n",
              "    }\n",
              "\n",
              "    .dataframe tbody tr th {\n",
              "        vertical-align: top;\n",
              "    }\n",
              "\n",
              "    .dataframe thead th {\n",
              "        text-align: right;\n",
              "    }\n",
              "</style>\n",
              "<table border=\"1\" class=\"dataframe\">\n",
              "  <thead>\n",
              "    <tr style=\"text-align: right;\">\n",
              "      <th></th>\n",
              "      <th>State</th>\n",
              "      <th>Corrections PC</th>\n",
              "    </tr>\n",
              "  </thead>\n",
              "  <tbody>\n",
              "    <tr>\n",
              "      <th>2</th>\n",
              "      <td>Alaska</td>\n",
              "      <td>455.84</td>\n",
              "    </tr>\n",
              "    <tr>\n",
              "      <th>5</th>\n",
              "      <td>California</td>\n",
              "      <td>394.51</td>\n",
              "    </tr>\n",
              "    <tr>\n",
              "      <th>51</th>\n",
              "      <td>Wyoming</td>\n",
              "      <td>367.22</td>\n",
              "    </tr>\n",
              "    <tr>\n",
              "      <th>32</th>\n",
              "      <td>New Mexico</td>\n",
              "      <td>332.68</td>\n",
              "    </tr>\n",
              "    <tr>\n",
              "      <th>33</th>\n",
              "      <td>New York</td>\n",
              "      <td>332.14</td>\n",
              "    </tr>\n",
              "    <tr>\n",
              "      <th>8</th>\n",
              "      <td>Delaware</td>\n",
              "      <td>324.84</td>\n",
              "    </tr>\n",
              "    <tr>\n",
              "      <th>21</th>\n",
              "      <td>Maryland</td>\n",
              "      <td>316.30</td>\n",
              "    </tr>\n",
              "    <tr>\n",
              "      <th>47</th>\n",
              "      <td>Virginia</td>\n",
              "      <td>304.45</td>\n",
              "    </tr>\n",
              "    <tr>\n",
              "      <th>38</th>\n",
              "      <td>Oregon</td>\n",
              "      <td>297.27</td>\n",
              "    </tr>\n",
              "    <tr>\n",
              "      <th>39</th>\n",
              "      <td>Pennsylvania</td>\n",
              "      <td>274.49</td>\n",
              "    </tr>\n",
              "    <tr>\n",
              "      <th>50</th>\n",
              "      <td>Wisconsin</td>\n",
              "      <td>269.22</td>\n",
              "    </tr>\n",
              "    <tr>\n",
              "      <th>28</th>\n",
              "      <td>Nebraska</td>\n",
              "      <td>262.08</td>\n",
              "    </tr>\n",
              "    <tr>\n",
              "      <th>23</th>\n",
              "      <td>Michigan</td>\n",
              "      <td>253.35</td>\n",
              "    </tr>\n",
              "    <tr>\n",
              "      <th>27</th>\n",
              "      <td>Montana</td>\n",
              "      <td>247.45</td>\n",
              "    </tr>\n",
              "    <tr>\n",
              "      <th>29</th>\n",
              "      <td>Nevada</td>\n",
              "      <td>243.78</td>\n",
              "    </tr>\n",
              "    <tr>\n",
              "      <th>19</th>\n",
              "      <td>Louisiana</td>\n",
              "      <td>243.34</td>\n",
              "    </tr>\n",
              "    <tr>\n",
              "      <th>3</th>\n",
              "      <td>Arizona</td>\n",
              "      <td>242.56</td>\n",
              "    </tr>\n",
              "    <tr>\n",
              "      <th>6</th>\n",
              "      <td>Colorado</td>\n",
              "      <td>236.98</td>\n",
              "    </tr>\n",
              "    <tr>\n",
              "      <th>48</th>\n",
              "      <td>Washington</td>\n",
              "      <td>236.83</td>\n",
              "    </tr>\n",
              "    <tr>\n",
              "      <th>35</th>\n",
              "      <td>North Dakota</td>\n",
              "      <td>232.15</td>\n",
              "    </tr>\n",
              "    <tr>\n",
              "      <th>31</th>\n",
              "      <td>New Jersey</td>\n",
              "      <td>230.22</td>\n",
              "    </tr>\n",
              "    <tr>\n",
              "      <th>46</th>\n",
              "      <td>Vermont</td>\n",
              "      <td>219.84</td>\n",
              "    </tr>\n",
              "    <tr>\n",
              "      <th>44</th>\n",
              "      <td>Texas</td>\n",
              "      <td>211.95</td>\n",
              "    </tr>\n",
              "    <tr>\n",
              "      <th>40</th>\n",
              "      <td>Rhode Island</td>\n",
              "      <td>210.13</td>\n",
              "    </tr>\n",
              "    <tr>\n",
              "      <th>42</th>\n",
              "      <td>South Dakota</td>\n",
              "      <td>208.19</td>\n",
              "    </tr>\n",
              "    <tr>\n",
              "      <th>10</th>\n",
              "      <td>Florida</td>\n",
              "      <td>205.94</td>\n",
              "    </tr>\n",
              "    <tr>\n",
              "      <th>13</th>\n",
              "      <td>Idaho</td>\n",
              "      <td>203.64</td>\n",
              "    </tr>\n",
              "    <tr>\n",
              "      <th>18</th>\n",
              "      <td>Kentucky</td>\n",
              "      <td>203.58</td>\n",
              "    </tr>\n",
              "    <tr>\n",
              "      <th>4</th>\n",
              "      <td>Arkansas</td>\n",
              "      <td>199.21</td>\n",
              "    </tr>\n",
              "    <tr>\n",
              "      <th>20</th>\n",
              "      <td>Maine</td>\n",
              "      <td>198.39</td>\n",
              "    </tr>\n",
              "    <tr>\n",
              "      <th>49</th>\n",
              "      <td>West Virginia</td>\n",
              "      <td>192.79</td>\n",
              "    </tr>\n",
              "    <tr>\n",
              "      <th>37</th>\n",
              "      <td>Oklahoma</td>\n",
              "      <td>191.54</td>\n",
              "    </tr>\n",
              "    <tr>\n",
              "      <th>7</th>\n",
              "      <td>Connecticut</td>\n",
              "      <td>191.18</td>\n",
              "    </tr>\n",
              "    <tr>\n",
              "      <th>11</th>\n",
              "      <td>Georgia</td>\n",
              "      <td>186.28</td>\n",
              "    </tr>\n",
              "    <tr>\n",
              "      <th>24</th>\n",
              "      <td>Minnesota</td>\n",
              "      <td>183.37</td>\n",
              "    </tr>\n",
              "    <tr>\n",
              "      <th>34</th>\n",
              "      <td>North Carolina</td>\n",
              "      <td>179.52</td>\n",
              "    </tr>\n",
              "    <tr>\n",
              "      <th>17</th>\n",
              "      <td>Kansas</td>\n",
              "      <td>177.11</td>\n",
              "    </tr>\n",
              "    <tr>\n",
              "      <th>43</th>\n",
              "      <td>Tennessee</td>\n",
              "      <td>176.92</td>\n",
              "    </tr>\n",
              "    <tr>\n",
              "      <th>15</th>\n",
              "      <td>Indiana</td>\n",
              "      <td>174.68</td>\n",
              "    </tr>\n",
              "    <tr>\n",
              "      <th>45</th>\n",
              "      <td>Utah</td>\n",
              "      <td>173.06</td>\n",
              "    </tr>\n",
              "    <tr>\n",
              "      <th>36</th>\n",
              "      <td>Ohio</td>\n",
              "      <td>172.46</td>\n",
              "    </tr>\n",
              "    <tr>\n",
              "      <th>25</th>\n",
              "      <td>Mississippi</td>\n",
              "      <td>166.61</td>\n",
              "    </tr>\n",
              "    <tr>\n",
              "      <th>22</th>\n",
              "      <td>Massachusetts</td>\n",
              "      <td>164.00</td>\n",
              "    </tr>\n",
              "    <tr>\n",
              "      <th>26</th>\n",
              "      <td>Missouri</td>\n",
              "      <td>157.78</td>\n",
              "    </tr>\n",
              "    <tr>\n",
              "      <th>41</th>\n",
              "      <td>South Carolina</td>\n",
              "      <td>152.37</td>\n",
              "    </tr>\n",
              "    <tr>\n",
              "      <th>12</th>\n",
              "      <td>Hawaii</td>\n",
              "      <td>152.27</td>\n",
              "    </tr>\n",
              "    <tr>\n",
              "      <th>1</th>\n",
              "      <td>Alabama</td>\n",
              "      <td>148.47</td>\n",
              "    </tr>\n",
              "    <tr>\n",
              "      <th>30</th>\n",
              "      <td>New Hampshire</td>\n",
              "      <td>147.84</td>\n",
              "    </tr>\n",
              "    <tr>\n",
              "      <th>14</th>\n",
              "      <td>Illinois</td>\n",
              "      <td>144.41</td>\n",
              "    </tr>\n",
              "    <tr>\n",
              "      <th>16</th>\n",
              "      <td>Iowa</td>\n",
              "      <td>141.86</td>\n",
              "    </tr>\n",
              "  </tbody>\n",
              "</table>\n",
              "</div>"
            ],
            "text/plain": [
              "             State  Corrections PC\n",
              "2           Alaska          455.84\n",
              "5       California          394.51\n",
              "51         Wyoming          367.22\n",
              "32      New Mexico          332.68\n",
              "33        New York          332.14\n",
              "8         Delaware          324.84\n",
              "21        Maryland          316.30\n",
              "47        Virginia          304.45\n",
              "38          Oregon          297.27\n",
              "39    Pennsylvania          274.49\n",
              "50       Wisconsin          269.22\n",
              "28        Nebraska          262.08\n",
              "23        Michigan          253.35\n",
              "27         Montana          247.45\n",
              "29          Nevada          243.78\n",
              "19       Louisiana          243.34\n",
              "3          Arizona          242.56\n",
              "6         Colorado          236.98\n",
              "48      Washington          236.83\n",
              "35    North Dakota          232.15\n",
              "31      New Jersey          230.22\n",
              "46         Vermont          219.84\n",
              "44           Texas          211.95\n",
              "40    Rhode Island          210.13\n",
              "42    South Dakota          208.19\n",
              "10         Florida          205.94\n",
              "13           Idaho          203.64\n",
              "18        Kentucky          203.58\n",
              "4         Arkansas          199.21\n",
              "20           Maine          198.39\n",
              "49   West Virginia          192.79\n",
              "37        Oklahoma          191.54\n",
              "7      Connecticut          191.18\n",
              "11         Georgia          186.28\n",
              "24       Minnesota          183.37\n",
              "34  North Carolina          179.52\n",
              "17          Kansas          177.11\n",
              "43       Tennessee          176.92\n",
              "15         Indiana          174.68\n",
              "45            Utah          173.06\n",
              "36            Ohio          172.46\n",
              "25     Mississippi          166.61\n",
              "22   Massachusetts          164.00\n",
              "26        Missouri          157.78\n",
              "41  South Carolina          152.37\n",
              "12          Hawaii          152.27\n",
              "1          Alabama          148.47\n",
              "30   New Hampshire          147.84\n",
              "14        Illinois          144.41\n",
              "16            Iowa          141.86"
            ]
          },
          "metadata": {
            "tags": []
          },
          "execution_count": 62
        }
      ]
    },
    {
      "cell_type": "code",
      "metadata": {
        "id": "UGdtxBISetgO",
        "outputId": "5c7f8cbf-4256-41e0-aaad-191182ab63a9",
        "colab": {
          "base_uri": "https://localhost:8080/",
          "height": 417
        }
      },
      "source": [
        "#Create the barplot in descending order\n",
        "corretion_pc.plot.bar(x='State',y='Corrections PC', figsize=(15,5))\n",
        "\n",
        "plt.show()"
      ],
      "execution_count": 63,
      "outputs": [
        {
          "output_type": "display_data",
          "data": {
            "image/png": "[encoded data removed]",
            "text/plain": [
              "<Figure size 1080x360 with 1 Axes>"
            ]
          },
          "metadata": {
            "tags": []
          }
        }
      ]
    },
    {
      "cell_type": "code",
      "metadata": {
        "id": "9XgsjBn2h23t",
        "outputId": "c0c06efa-01a1-4709-e0fa-bdaf76e282c4",
        "colab": {
          "base_uri": "https://localhost:8080/",
          "height": 417
        }
      },
      "source": [
        "#Create the barplot in descending order\n",
        "sns.barplot(x='State',y='Corrections PC',data=corretion_pc)\n",
        "sns.set(rc={'figure.figsize':(15,5)})\n",
        "plt.xticks(rotation=90)\n",
        "plt.show()"
      ],
      "execution_count": 64,
      "outputs": [
        {
          "output_type": "display_data",
          "data": {
            "image/png": "[encoded data removed]",
            "text/plain": [
              "<Figure size 1080x360 with 1 Axes>"
            ]
          },
          "metadata": {
            "tags": []
          }
        }
      ]
    },
    {
      "cell_type": "markdown",
      "metadata": {
        "id": "b4UCYfewQWbW"
      },
      "source": [
        "Order The column in descending order so that we can show it in descending order then show it and print graphs in descending order in both matplotlib and seaborn."
      ]
    },
    {
      "cell_type": "code",
      "metadata": {
        "id": "U0K5cH4dXLyd"
      },
      "source": [
        "#Order your new dataframe in descending order\n",
        "T_total_pc=T_total_pc.sort_values(by=['Total_PC'], ascending=False)"
      ],
      "execution_count": 65,
      "outputs": []
    },
    {
      "cell_type": "code",
      "metadata": {
        "id": "n_hAD02yd3yR",
        "outputId": "0b242c39-ec68-412f-f9f0-d3c919ec5bd3",
        "colab": {
          "base_uri": "https://localhost:8080/",
          "height": 1000
        }
      },
      "source": [
        "#Show it in descending order\n",
        "T_total_pc"
      ],
      "execution_count": 66,
      "outputs": [
        {
          "output_type": "execute_result",
          "data": {
            "text/html": [
              "<div>\n",
              "<style scoped>\n",
              "    .dataframe tbody tr th:only-of-type {\n",
              "        vertical-align: middle;\n",
              "    }\n",
              "\n",
              "    .dataframe tbody tr th {\n",
              "        vertical-align: top;\n",
              "    }\n",
              "\n",
              "    .dataframe thead th {\n",
              "        text-align: right;\n",
              "    }\n",
              "</style>\n",
              "<table border=\"1\" class=\"dataframe\">\n",
              "  <thead>\n",
              "    <tr style=\"text-align: right;\">\n",
              "      <th></th>\n",
              "      <th>State</th>\n",
              "      <th>Total_PC</th>\n",
              "    </tr>\n",
              "  </thead>\n",
              "  <tbody>\n",
              "    <tr>\n",
              "      <th>2</th>\n",
              "      <td>Alaska</td>\n",
              "      <td>2595.31</td>\n",
              "    </tr>\n",
              "    <tr>\n",
              "      <th>5</th>\n",
              "      <td>California</td>\n",
              "      <td>2127.78</td>\n",
              "    </tr>\n",
              "    <tr>\n",
              "      <th>33</th>\n",
              "      <td>New York</td>\n",
              "      <td>2097.90</td>\n",
              "    </tr>\n",
              "    <tr>\n",
              "      <th>51</th>\n",
              "      <td>Wyoming</td>\n",
              "      <td>1994.26</td>\n",
              "    </tr>\n",
              "    <tr>\n",
              "      <th>21</th>\n",
              "      <td>Maryland</td>\n",
              "      <td>1825.68</td>\n",
              "    </tr>\n",
              "    <tr>\n",
              "      <th>8</th>\n",
              "      <td>Delaware</td>\n",
              "      <td>1821.21</td>\n",
              "    </tr>\n",
              "    <tr>\n",
              "      <th>32</th>\n",
              "      <td>New Mexico</td>\n",
              "      <td>1649.74</td>\n",
              "    </tr>\n",
              "    <tr>\n",
              "      <th>29</th>\n",
              "      <td>Nevada</td>\n",
              "      <td>1624.64</td>\n",
              "    </tr>\n",
              "    <tr>\n",
              "      <th>38</th>\n",
              "      <td>Oregon</td>\n",
              "      <td>1616.65</td>\n",
              "    </tr>\n",
              "    <tr>\n",
              "      <th>31</th>\n",
              "      <td>New Jersey</td>\n",
              "      <td>1582.22</td>\n",
              "    </tr>\n",
              "    <tr>\n",
              "      <th>7</th>\n",
              "      <td>Connecticut</td>\n",
              "      <td>1535.80</td>\n",
              "    </tr>\n",
              "    <tr>\n",
              "      <th>40</th>\n",
              "      <td>Rhode Island</td>\n",
              "      <td>1521.88</td>\n",
              "    </tr>\n",
              "    <tr>\n",
              "      <th>19</th>\n",
              "      <td>Louisiana</td>\n",
              "      <td>1483.69</td>\n",
              "    </tr>\n",
              "    <tr>\n",
              "      <th>27</th>\n",
              "      <td>Montana</td>\n",
              "      <td>1458.82</td>\n",
              "    </tr>\n",
              "    <tr>\n",
              "      <th>39</th>\n",
              "      <td>Pennsylvania</td>\n",
              "      <td>1428.29</td>\n",
              "    </tr>\n",
              "    <tr>\n",
              "      <th>6</th>\n",
              "      <td>Colorado</td>\n",
              "      <td>1422.36</td>\n",
              "    </tr>\n",
              "    <tr>\n",
              "      <th>3</th>\n",
              "      <td>Arizona</td>\n",
              "      <td>1419.54</td>\n",
              "    </tr>\n",
              "    <tr>\n",
              "      <th>50</th>\n",
              "      <td>Wisconsin</td>\n",
              "      <td>1417.16</td>\n",
              "    </tr>\n",
              "    <tr>\n",
              "      <th>47</th>\n",
              "      <td>Virginia</td>\n",
              "      <td>1411.04</td>\n",
              "    </tr>\n",
              "    <tr>\n",
              "      <th>10</th>\n",
              "      <td>Florida</td>\n",
              "      <td>1402.16</td>\n",
              "    </tr>\n",
              "    <tr>\n",
              "      <th>22</th>\n",
              "      <td>Massachusetts</td>\n",
              "      <td>1379.82</td>\n",
              "    </tr>\n",
              "    <tr>\n",
              "      <th>12</th>\n",
              "      <td>Hawaii</td>\n",
              "      <td>1359.78</td>\n",
              "    </tr>\n",
              "    <tr>\n",
              "      <th>35</th>\n",
              "      <td>North Dakota</td>\n",
              "      <td>1350.71</td>\n",
              "    </tr>\n",
              "    <tr>\n",
              "      <th>14</th>\n",
              "      <td>Illinois</td>\n",
              "      <td>1343.68</td>\n",
              "    </tr>\n",
              "    <tr>\n",
              "      <th>24</th>\n",
              "      <td>Minnesota</td>\n",
              "      <td>1327.68</td>\n",
              "    </tr>\n",
              "    <tr>\n",
              "      <th>48</th>\n",
              "      <td>Washington</td>\n",
              "      <td>1320.66</td>\n",
              "    </tr>\n",
              "    <tr>\n",
              "      <th>36</th>\n",
              "      <td>Ohio</td>\n",
              "      <td>1312.45</td>\n",
              "    </tr>\n",
              "    <tr>\n",
              "      <th>46</th>\n",
              "      <td>Vermont</td>\n",
              "      <td>1301.49</td>\n",
              "    </tr>\n",
              "    <tr>\n",
              "      <th>23</th>\n",
              "      <td>Michigan</td>\n",
              "      <td>1240.97</td>\n",
              "    </tr>\n",
              "    <tr>\n",
              "      <th>28</th>\n",
              "      <td>Nebraska</td>\n",
              "      <td>1200.54</td>\n",
              "    </tr>\n",
              "    <tr>\n",
              "      <th>13</th>\n",
              "      <td>Idaho</td>\n",
              "      <td>1187.89</td>\n",
              "    </tr>\n",
              "    <tr>\n",
              "      <th>44</th>\n",
              "      <td>Texas</td>\n",
              "      <td>1184.38</td>\n",
              "    </tr>\n",
              "    <tr>\n",
              "      <th>34</th>\n",
              "      <td>North Carolina</td>\n",
              "      <td>1153.70</td>\n",
              "    </tr>\n",
              "    <tr>\n",
              "      <th>43</th>\n",
              "      <td>Tennessee</td>\n",
              "      <td>1142.46</td>\n",
              "    </tr>\n",
              "    <tr>\n",
              "      <th>11</th>\n",
              "      <td>Georgia</td>\n",
              "      <td>1136.04</td>\n",
              "    </tr>\n",
              "    <tr>\n",
              "      <th>17</th>\n",
              "      <td>Kansas</td>\n",
              "      <td>1129.94</td>\n",
              "    </tr>\n",
              "    <tr>\n",
              "      <th>37</th>\n",
              "      <td>Oklahoma</td>\n",
              "      <td>1116.58</td>\n",
              "    </tr>\n",
              "    <tr>\n",
              "      <th>49</th>\n",
              "      <td>West Virginia</td>\n",
              "      <td>1111.58</td>\n",
              "    </tr>\n",
              "    <tr>\n",
              "      <th>42</th>\n",
              "      <td>South Dakota</td>\n",
              "      <td>1094.42</td>\n",
              "    </tr>\n",
              "    <tr>\n",
              "      <th>30</th>\n",
              "      <td>New Hampshire</td>\n",
              "      <td>1092.05</td>\n",
              "    </tr>\n",
              "    <tr>\n",
              "      <th>26</th>\n",
              "      <td>Missouri</td>\n",
              "      <td>1072.92</td>\n",
              "    </tr>\n",
              "    <tr>\n",
              "      <th>25</th>\n",
              "      <td>Mississippi</td>\n",
              "      <td>1014.14</td>\n",
              "    </tr>\n",
              "    <tr>\n",
              "      <th>18</th>\n",
              "      <td>Kentucky</td>\n",
              "      <td>1011.48</td>\n",
              "    </tr>\n",
              "    <tr>\n",
              "      <th>16</th>\n",
              "      <td>Iowa</td>\n",
              "      <td>1009.83</td>\n",
              "    </tr>\n",
              "    <tr>\n",
              "      <th>20</th>\n",
              "      <td>Maine</td>\n",
              "      <td>1008.81</td>\n",
              "    </tr>\n",
              "    <tr>\n",
              "      <th>4</th>\n",
              "      <td>Arkansas</td>\n",
              "      <td>1007.97</td>\n",
              "    </tr>\n",
              "    <tr>\n",
              "      <th>45</th>\n",
              "      <td>Utah</td>\n",
              "      <td>1007.26</td>\n",
              "    </tr>\n",
              "    <tr>\n",
              "      <th>1</th>\n",
              "      <td>Alabama</td>\n",
              "      <td>960.22</td>\n",
              "    </tr>\n",
              "    <tr>\n",
              "      <th>41</th>\n",
              "      <td>South Carolina</td>\n",
              "      <td>930.97</td>\n",
              "    </tr>\n",
              "    <tr>\n",
              "      <th>15</th>\n",
              "      <td>Indiana</td>\n",
              "      <td>900.16</td>\n",
              "    </tr>\n",
              "  </tbody>\n",
              "</table>\n",
              "</div>"
            ],
            "text/plain": [
              "             State  Total_PC\n",
              "2           Alaska   2595.31\n",
              "5       California   2127.78\n",
              "33        New York   2097.90\n",
              "51         Wyoming   1994.26\n",
              "21        Maryland   1825.68\n",
              "8         Delaware   1821.21\n",
              "32      New Mexico   1649.74\n",
              "29          Nevada   1624.64\n",
              "38          Oregon   1616.65\n",
              "31      New Jersey   1582.22\n",
              "7      Connecticut   1535.80\n",
              "40    Rhode Island   1521.88\n",
              "19       Louisiana   1483.69\n",
              "27         Montana   1458.82\n",
              "39    Pennsylvania   1428.29\n",
              "6         Colorado   1422.36\n",
              "3          Arizona   1419.54\n",
              "50       Wisconsin   1417.16\n",
              "47        Virginia   1411.04\n",
              "10         Florida   1402.16\n",
              "22   Massachusetts   1379.82\n",
              "12          Hawaii   1359.78\n",
              "35    North Dakota   1350.71\n",
              "14        Illinois   1343.68\n",
              "24       Minnesota   1327.68\n",
              "48      Washington   1320.66\n",
              "36            Ohio   1312.45\n",
              "46         Vermont   1301.49\n",
              "23        Michigan   1240.97\n",
              "28        Nebraska   1200.54\n",
              "13           Idaho   1187.89\n",
              "44           Texas   1184.38\n",
              "34  North Carolina   1153.70\n",
              "43       Tennessee   1142.46\n",
              "11         Georgia   1136.04\n",
              "17          Kansas   1129.94\n",
              "37        Oklahoma   1116.58\n",
              "49   West Virginia   1111.58\n",
              "42    South Dakota   1094.42\n",
              "30   New Hampshire   1092.05\n",
              "26        Missouri   1072.92\n",
              "25     Mississippi   1014.14\n",
              "18        Kentucky   1011.48\n",
              "16            Iowa   1009.83\n",
              "20           Maine   1008.81\n",
              "4         Arkansas   1007.97\n",
              "45            Utah   1007.26\n",
              "1          Alabama    960.22\n",
              "41  South Carolina    930.97\n",
              "15         Indiana    900.16"
            ]
          },
          "metadata": {
            "tags": []
          },
          "execution_count": 66
        }
      ]
    },
    {
      "cell_type": "code",
      "metadata": {
        "id": "4dQ9QHXyeu8V",
        "outputId": "07deb651-d3c5-4208-b652-4435123e8a76",
        "colab": {
          "base_uri": "https://localhost:8080/",
          "height": 417
        }
      },
      "source": [
        "#Create the barplot in descending order\n",
        "T_total_pc.plot.bar(x='State',y='Total_PC', figsize=(15,5))\n",
        "\n",
        "plt.show()"
      ],
      "execution_count": 67,
      "outputs": [
        {
          "output_type": "display_data",
          "data": {
            "image/png": "[encoded data removed]",
            "text/plain": [
              "<Figure size 1080x360 with 1 Axes>"
            ]
          },
          "metadata": {
            "tags": []
          }
        }
      ]
    },
    {
      "cell_type": "code",
      "metadata": {
        "id": "sWCUAebZiKU1",
        "outputId": "d2635d80-780e-438b-8fdd-28c16e2bb1a7",
        "colab": {
          "base_uri": "https://localhost:8080/",
          "height": 417
        }
      },
      "source": [
        "#Create the barplot in descending order\n",
        "sns.barplot(x='State',y='Total_PC',data=T_total_pc)\n",
        "sns.set(rc={'figure.figsize':(15,5)})\n",
        "plt.xticks(rotation=90)\n",
        "plt.show()"
      ],
      "execution_count": 68,
      "outputs": [
        {
          "output_type": "display_data",
          "data": {
            "image/png": "[encoded data removed]",
            "text/plain": [
              "<Figure size 1080x360 with 1 Axes>"
            ]
          },
          "metadata": {
            "tags": []
          }
        }
      ]
    },
    {
      "cell_type": "markdown",
      "metadata": {
        "id": "LDY5qlLQ943I"
      },
      "source": [
        "**Part 5: Conclusions**\n"
      ]
    },
    {
      "cell_type": "markdown",
      "metadata": {
        "id": "lO9ixI__RLqs"
      },
      "source": [
        "Q1: Did any of the states pay so much or so little that they may be considered outliers in comparison to other states?\n",
        "\n",
        "Steps Taken: Generate the interquartile range of the Per Capita columns and create a box plot showing the outliers.\n",
        "\n",
        "Conclusion: The end result of our analysis shows that all of the columns have outliers. Total justice system PC has 3, Police Protection has 2, Judicial and Legal has 1, Corrections has 3, and Total_PC has 3 as well. Considering the size of the data set we were working with of just fifty rows three outliers represent that 6 percent of our data is composed of outliers.\n",
        "\n",
        "Q2: Can we determine which states paid the most to least in descending order?\n",
        "\n",
        "Steps Taken: Create five new data frames of each of the Per capita columns by state. Then make a bar plot of these new data frames in descending order.\n",
        "\n",
        "Conclusion: We see from our analysis and our plots that we have successfully determined which states pay the most and least Per capita in descending order. \n",
        "For the Total_PC Column, Alaska is high and Indiana is low.\n",
        "For the Corrections PC column, Alaska is high and Iowa is low.\n",
        "For the Judicial and Legal column, Alaska is high and South Carolina is low.\n",
        "For the Police Protection PC column New York is high and Kentucky is low.\n",
        "For the Justice system PC column Alaska is high and Indiana is low.\n",
        "\n"
      ]
    },
    {
      "cell_type": "markdown",
      "metadata": {
        "id": "9JEiVxOC1hJU"
      },
      "source": [
        "**Refrences**\n",
        "\n",
        "Kaggle.com - https://www.kaggle.com/rishidamarla/judicial-expenditures-across-all-50-states\n",
        "\n",
        "Data world - https://data.world/usbjs/justice-expenditure-and-employment-2016/workspace/file?filename=jeee16t08.csv"
      ]
    }
  ]
}